{
 "cells": [
  {
   "cell_type": "code",
   "execution_count": 1,
   "metadata": {
    "collapsed": true
   },
   "outputs": [],
   "source": [
    "import pandas as pd\n",
    "import numpy as np\n",
    "import matplotlib.pyplot as plt\n",
    "%matplotlib inline\n",
    "%config InlineBackend.figure_format = 'retina'"
   ]
  },
  {
   "cell_type": "code",
   "execution_count": 2,
   "metadata": {
    "collapsed": true
   },
   "outputs": [],
   "source": [
    "currencies = {'USD':1.36,\n",
    "             'GBP':1.80,\n",
    "             'HKD':0.17,\n",
    "             'AUD':1.05,\n",
    "             'CAD':1.06}"
   ]
  },
  {
   "cell_type": "code",
   "execution_count": 3,
   "metadata": {
    "collapsed": true
   },
   "outputs": [],
   "source": [
    "def salarytransformer(element):\n",
    "    \"\"\" transform salary to the mean value of the range. not applicable for GBP because of pound sign\"\"\"\n",
    "    listofvalues = element.replace(',','').split(' ')\n",
    "    newlister = []\n",
    "    for s in listofvalues:\n",
    "        if \"$\" in s:\n",
    "            s = s.strip(\"$\")\n",
    "            s = float(s)\n",
    "            newlister.append(s)\n",
    "            continue\n",
    "        \n",
    "        if s.isdigit():\n",
    "            s = float(s)\n",
    "            newlister.append(s)\n",
    "            \n",
    "    array = np.array(newlister)\n",
    "    if listofvalues[-1] in \"month\":\n",
    "        array*=12    # excludes bonus\n",
    "    if listofvalues[-1] in \"week\":\n",
    "        array*=52   #52 weeks\n",
    "    if listofvalues[-1] in \"day\":\n",
    "        array*=230   #5/7*365-30\n",
    "    if listofvalues[-1] in \"hour\":\n",
    "        array*=1840  #day*8\n",
    "    \n",
    "    if len(array) == 2:\n",
    "        \n",
    "        array = np.mean(array)\n",
    "        return array\n",
    "    \n",
    "    elif len(array) == 1:\n",
    "        return array[0]\n",
    "\n",
    "    else:\n",
    "        return None\n",
    "    "
   ]
  },
  {
   "cell_type": "code",
   "execution_count": 7,
   "metadata": {
    "collapsed": true
   },
   "outputs": [],
   "source": [
    "def uksalarytransformer(element):\n",
    "    \n",
    "    newlister = []\n",
    "    listofvalues = element.replace(',','').split(' ')\n",
    "    for s in listofvalues:\n",
    "        s = s[1:]\n",
    "        if s.isdigit():\n",
    "            s = float(s)\n",
    "            newlister.append(s)\n",
    "    array = np.array(newlister)\n",
    "    \n",
    "    if listofvalues[-1] in \"month\":\n",
    "        array*=12    # excludes bonus\n",
    "    if listofvalues[-1] in \"day\":\n",
    "        array*=230   #5/7*365-30\n",
    "    if listofvalues[-1] in \"week\":\n",
    "        array*=52   #52 weeks    \n",
    "    if listofvalues[-1] in \"hour\":\n",
    "        array*=1840  #day*8\n",
    "    \n",
    "    if len(array) == 2:\n",
    "        \n",
    "        array = np.mean(array)\n",
    "        return array\n",
    "    \n",
    "    elif len(array) == 1:\n",
    "        if type(array[0]) == float:\n",
    "            array = array[0]\n",
    "            return array\n",
    "    \n",
    "    else:\n",
    "        return None\n",
    "    \n",
    "    "
   ]
  },
  {
   "cell_type": "code",
   "execution_count": 8,
   "metadata": {},
   "outputs": [
    {
     "data": {
      "text/plain": [
       "(44, 11)"
      ]
     },
     "execution_count": 8,
     "metadata": {},
     "output_type": "execute_result"
    }
   ],
   "source": [
    "dfsg = pd.read_pickle('dfsg.pkl')\n",
    "dfsg['cleanedsalary'] = dfsg['salary'].map(salarytransformer)\n",
    "dfsg['country'] = 'Singapore'\n",
    "dfsg_withsalary = dfsg.loc[dfsg['cleanedsalary'].dropna().index]\n",
    "dfsg_withsalary.shape"
   ]
  },
  {
   "cell_type": "code",
   "execution_count": 9,
   "metadata": {},
   "outputs": [
    {
     "data": {
      "text/plain": [
       "(1914, 11)"
      ]
     },
     "execution_count": 9,
     "metadata": {},
     "output_type": "execute_result"
    }
   ],
   "source": [
    "dfuk = pd.read_pickle('dfuk.pkl')\n",
    "dfuk['cleanedsalary'] = dfuk['salary'].map(uksalarytransformer)\n",
    "dfuk['cleanedsalary'] = dfuk['cleanedsalary'].map(lambda x: x*currencies['GBP']) #convert to SGD\n",
    "dfuk['country'] = 'United Kingdom'\n",
    "dfuk_withsalary = dfuk.loc[dfuk['cleanedsalary'].dropna().index]\n",
    "dfuk_withsalary.shape"
   ]
  },
  {
   "cell_type": "code",
   "execution_count": 10,
   "metadata": {},
   "outputs": [
    {
     "data": {
      "text/plain": [
       "(1964, 11)"
      ]
     },
     "execution_count": 10,
     "metadata": {},
     "output_type": "execute_result"
    }
   ],
   "source": [
    "dfus = pd.read_pickle('dfus.pkl')\n",
    "dfus['cleanedsalary'] = dfus['salary'].map(salarytransformer)\n",
    "dfus['cleanedsalary'] = dfus['cleanedsalary'].map(lambda x: x*currencies['USD']) #convert to SGD\n",
    "dfus['country'] = 'United States'\n",
    "dfus_withsalary = dfus.loc[dfus['cleanedsalary'].dropna().index]\n",
    "dfus_withsalary.shape"
   ]
  },
  {
   "cell_type": "code",
   "execution_count": 11,
   "metadata": {},
   "outputs": [
    {
     "data": {
      "text/plain": [
       "(242, 11)"
      ]
     },
     "execution_count": 11,
     "metadata": {},
     "output_type": "execute_result"
    }
   ],
   "source": [
    "dfca = pd.read_pickle('dfca.pkl')\n",
    "dfca['cleanedsalary'] = dfca['salary'].map(salarytransformer)\n",
    "dfca['cleanedsalary'] = dfca['cleanedsalary'].map(lambda x: x*currencies['CAD']) #convert to SGD\n",
    "dfca['country'] = 'Canada'\n",
    "dfca_withsalary = dfca.loc[dfca['cleanedsalary'].dropna().index]\n",
    "dfca_withsalary.shape"
   ]
  },
  {
   "cell_type": "code",
   "execution_count": 12,
   "metadata": {},
   "outputs": [
    {
     "data": {
      "text/plain": [
       "(321, 11)"
      ]
     },
     "execution_count": 12,
     "metadata": {},
     "output_type": "execute_result"
    }
   ],
   "source": [
    "dfau = pd.read_pickle('dfau.pkl')\n",
    "dfau['cleanedsalary'] = dfau['salary'].map(salarytransformer)\n",
    "dfau['cleanedsalary'] = dfau['cleanedsalary'].map(lambda x: x*currencies['AUD']) #convert to SGD\n",
    "dfau['country'] = 'Australia'\n",
    "dfau_withsalary = dfau.loc[dfau['cleanedsalary'].dropna().index]\n",
    "dfau_withsalary.shape"
   ]
  },
  {
   "cell_type": "code",
   "execution_count": 13,
   "metadata": {},
   "outputs": [
    {
     "data": {
      "text/plain": [
       "(17, 11)"
      ]
     },
     "execution_count": 13,
     "metadata": {},
     "output_type": "execute_result"
    }
   ],
   "source": [
    "dfhk = pd.read_pickle('dfhk.pkl')\n",
    "dfhk['cleanedsalary'] = dfhk['salary'].map(salarytransformer)\n",
    "dfhk['cleanedsalary'] = dfhk['cleanedsalary'].map(lambda x: x*currencies['HKD']) #convert to SGD\n",
    "dfhk['country'] = 'Hong Kong'\n",
    "dfhk_withsalary = dfhk.loc[dfhk['cleanedsalary'].dropna().index]\n",
    "dfhk_withsalary.shape"
   ]
  },
  {
   "cell_type": "code",
   "execution_count": 14,
   "metadata": {
    "collapsed": true
   },
   "outputs": [],
   "source": [
    "dfconsolidated = pd.concat([dfsg, dfuk, dfus, dfau, dfca, dfhk])"
   ]
  },
  {
   "cell_type": "code",
   "execution_count": 343,
   "metadata": {},
   "outputs": [
    {
     "data": {
      "text/html": [
       "<div>\n",
       "<style>\n",
       "    .dataframe thead tr:only-child th {\n",
       "        text-align: right;\n",
       "    }\n",
       "\n",
       "    .dataframe thead th {\n",
       "        text-align: left;\n",
       "    }\n",
       "\n",
       "    .dataframe tbody tr th {\n",
       "        vertical-align: top;\n",
       "    }\n",
       "</style>\n",
       "<table border=\"1\" class=\"dataframe\">\n",
       "  <thead>\n",
       "    <tr style=\"text-align: right;\">\n",
       "      <th></th>\n",
       "      <th>city</th>\n",
       "      <th>company</th>\n",
       "      <th>description</th>\n",
       "      <th>experience</th>\n",
       "      <th>location</th>\n",
       "      <th>reviews</th>\n",
       "      <th>salary</th>\n",
       "      <th>stars</th>\n",
       "      <th>title</th>\n",
       "      <th>cleanedsalary</th>\n",
       "      <th>country</th>\n",
       "    </tr>\n",
       "  </thead>\n",
       "  <tbody>\n",
       "    <tr>\n",
       "      <th>0</th>\n",
       "      <td>Singapore</td>\n",
       "      <td>Libbler</td>\n",
       "      <td>Good understanding of investment and quant, ma...</td>\n",
       "      <td>NA</td>\n",
       "      <td>Singapore</td>\n",
       "      <td>NA</td>\n",
       "      <td>NA</td>\n",
       "      <td>NA</td>\n",
       "      <td>Research Data Manager</td>\n",
       "      <td>NaN</td>\n",
       "      <td>Singapore</td>\n",
       "    </tr>\n",
       "    <tr>\n",
       "      <th>1</th>\n",
       "      <td>Singapore</td>\n",
       "      <td>Procter &amp; Gamble</td>\n",
       "      <td>Scope includes acquiring, cleaning, formatting...</td>\n",
       "      <td>NA</td>\n",
       "      <td>Singapore</td>\n",
       "      <td>3,713 reviews</td>\n",
       "      <td>NA</td>\n",
       "      <td>52.2</td>\n",
       "      <td>Research &amp; Development - Data Transformation S...</td>\n",
       "      <td>NaN</td>\n",
       "      <td>Singapore</td>\n",
       "    </tr>\n",
       "    <tr>\n",
       "      <th>2</th>\n",
       "      <td>Singapore</td>\n",
       "      <td>EkkBaz.com</td>\n",
       "      <td>Selecting features, building and optimizing cl...</td>\n",
       "      <td>NA</td>\n",
       "      <td>Ang Mo Kio</td>\n",
       "      <td>NA</td>\n",
       "      <td>$1,000 - $2,000 a month</td>\n",
       "      <td>NA</td>\n",
       "      <td>Data Scientist Intern</td>\n",
       "      <td>18000.0</td>\n",
       "      <td>Singapore</td>\n",
       "    </tr>\n",
       "    <tr>\n",
       "      <th>3</th>\n",
       "      <td>Singapore</td>\n",
       "      <td>IBM</td>\n",
       "      <td>Familiar with at least one Machine Learning li...</td>\n",
       "      <td>NA</td>\n",
       "      <td>Singapore</td>\n",
       "      <td>18,106 reviews</td>\n",
       "      <td>NA</td>\n",
       "      <td>51.0</td>\n",
       "      <td>Research Data Scientist (IBM Singapore Lab)</td>\n",
       "      <td>NaN</td>\n",
       "      <td>Singapore</td>\n",
       "    </tr>\n",
       "    <tr>\n",
       "      <th>4</th>\n",
       "      <td>Singapore</td>\n",
       "      <td>GIC Investment</td>\n",
       "      <td>Data &amp; Analytics Department. Experience buildi...</td>\n",
       "      <td>NA</td>\n",
       "      <td>Tanjong Pagar</td>\n",
       "      <td>NA</td>\n",
       "      <td>NA</td>\n",
       "      <td>NA</td>\n",
       "      <td>AVP/VP, Machine Learning Engineer</td>\n",
       "      <td>NaN</td>\n",
       "      <td>Singapore</td>\n",
       "    </tr>\n",
       "  </tbody>\n",
       "</table>\n",
       "</div>"
      ],
      "text/plain": [
       "        city           company  \\\n",
       "0  Singapore           Libbler   \n",
       "1  Singapore  Procter & Gamble   \n",
       "2  Singapore        EkkBaz.com   \n",
       "3  Singapore               IBM   \n",
       "4  Singapore    GIC Investment   \n",
       "\n",
       "                                         description experience  \\\n",
       "0  Good understanding of investment and quant, ma...         NA   \n",
       "1  Scope includes acquiring, cleaning, formatting...         NA   \n",
       "2  Selecting features, building and optimizing cl...         NA   \n",
       "3  Familiar with at least one Machine Learning li...         NA   \n",
       "4  Data & Analytics Department. Experience buildi...         NA   \n",
       "\n",
       "        location         reviews                   salary stars  \\\n",
       "0      Singapore              NA                       NA    NA   \n",
       "1      Singapore   3,713 reviews                       NA  52.2   \n",
       "2     Ang Mo Kio              NA  $1,000 - $2,000 a month    NA   \n",
       "3      Singapore  18,106 reviews                       NA  51.0   \n",
       "4  Tanjong Pagar              NA                       NA    NA   \n",
       "\n",
       "                                               title  cleanedsalary    country  \n",
       "0                              Research Data Manager            NaN  Singapore  \n",
       "1  Research & Development - Data Transformation S...            NaN  Singapore  \n",
       "2                              Data Scientist Intern        18000.0  Singapore  \n",
       "3        Research Data Scientist (IBM Singapore Lab)            NaN  Singapore  \n",
       "4                  AVP/VP, Machine Learning Engineer            NaN  Singapore  "
      ]
     },
     "execution_count": 343,
     "metadata": {},
     "output_type": "execute_result"
    }
   ],
   "source": [
    "dfconsolidated.head()"
   ]
  },
  {
   "cell_type": "code",
   "execution_count": 16,
   "metadata": {
    "collapsed": true
   },
   "outputs": [],
   "source": [
    "dfconsolidated_withsalary = pd.concat([dfsg_withsalary, dfuk_withsalary,dfus_withsalary,dfau_withsalary,dfca_withsalary, dfhk_withsalary])"
   ]
  },
  {
   "cell_type": "code",
   "execution_count": 17,
   "metadata": {
    "collapsed": true
   },
   "outputs": [],
   "source": [
    "df = dfconsolidated.drop_duplicates(subset=['company','cleanedsalary','location','title','city'])\n",
    "dfc = dfconsolidated_withsalary.drop_duplicates(subset=['company','cleanedsalary','location','title','city'])"
   ]
  },
  {
   "cell_type": "code",
   "execution_count": 18,
   "metadata": {},
   "outputs": [
    {
     "data": {
      "text/plain": [
       "<matplotlib.axes._subplots.AxesSubplot at 0x113992190>"
      ]
     },
     "execution_count": 18,
     "metadata": {},
     "output_type": "execute_result"
    },
    {
     "data": {
      "image/png": "[encoded data removed]",
      "text/plain": [
       "<matplotlib.figure.Figure at 0x116d5a4d0>"
      ]
     },
     "metadata": {
      "image/png": {
       "height": 255,
       "width": 405
      }
     },
     "output_type": "display_data"
    }
   ],
   "source": [
    "dfc['cleanedsalary'].plot.hist(bins=15)"
   ]
  },
  {
   "cell_type": "code",
   "execution_count": 19,
   "metadata": {
    "collapsed": true
   },
   "outputs": [],
   "source": [
    "import seaborn as sns"
   ]
  },
  {
   "cell_type": "code",
   "execution_count": 20,
   "metadata": {},
   "outputs": [
    {
     "data": {
      "text/plain": [
       "<matplotlib.axes._subplots.AxesSubplot at 0x11c8b6550>"
      ]
     },
     "execution_count": 20,
     "metadata": {},
     "output_type": "execute_result"
    },
    {
     "data": {
      "image/png": "[encoded data removed]",
      "text/plain": [
       "<matplotlib.figure.Figure at 0x11c826c50>"
      ]
     },
     "metadata": {
      "image/png": {
       "height": 255,
       "width": 420
      }
     },
     "output_type": "display_data"
    }
   ],
   "source": [
    "sns.kdeplot(dfc['cleanedsalary'])"
   ]
  },
  {
   "cell_type": "code",
   "execution_count": 21,
   "metadata": {},
   "outputs": [
    {
     "name": "stdout",
     "output_type": "stream",
     "text": [
      "(3354, 11)\n",
      "(3310, 11)\n"
     ]
    }
   ],
   "source": [
    "print dfc.shape\n",
    "dfcn = dfc[dfc['city'] != '']    # made a mistake in scraping\n",
    "print dfcn.shape"
   ]
  },
  {
   "cell_type": "code",
   "execution_count": 22,
   "metadata": {},
   "outputs": [
    {
     "data": {
      "text/html": [
       "<div>\n",
       "<style>\n",
       "    .dataframe thead tr:only-child th {\n",
       "        text-align: right;\n",
       "    }\n",
       "\n",
       "    .dataframe thead th {\n",
       "        text-align: left;\n",
       "    }\n",
       "\n",
       "    .dataframe tbody tr th {\n",
       "        vertical-align: top;\n",
       "    }\n",
       "</style>\n",
       "<table border=\"1\" class=\"dataframe\">\n",
       "  <thead>\n",
       "    <tr style=\"text-align: right;\">\n",
       "      <th></th>\n",
       "      <th>city</th>\n",
       "      <th>company</th>\n",
       "      <th>description</th>\n",
       "      <th>experience</th>\n",
       "      <th>location</th>\n",
       "      <th>reviews</th>\n",
       "      <th>salary</th>\n",
       "      <th>stars</th>\n",
       "      <th>title</th>\n",
       "      <th>cleanedsalary</th>\n",
       "      <th>country</th>\n",
       "    </tr>\n",
       "  </thead>\n",
       "  <tbody>\n",
       "    <tr>\n",
       "      <th>2</th>\n",
       "      <td>Singapore</td>\n",
       "      <td>EkkBaz.com</td>\n",
       "      <td>Selecting features, building and optimizing cl...</td>\n",
       "      <td>NA</td>\n",
       "      <td>Ang Mo Kio</td>\n",
       "      <td>NA</td>\n",
       "      <td>$1,000 - $2,000 a month</td>\n",
       "      <td>NA</td>\n",
       "      <td>Data Scientist Intern</td>\n",
       "      <td>18000.0</td>\n",
       "      <td>Singapore</td>\n",
       "    </tr>\n",
       "    <tr>\n",
       "      <th>16</th>\n",
       "      <td>Singapore</td>\n",
       "      <td>UMeKang</td>\n",
       "      <td>Experienced with Predictive Analytics, advance...</td>\n",
       "      <td>NA</td>\n",
       "      <td>Singapore</td>\n",
       "      <td>NA</td>\n",
       "      <td>$9,000 - $11,000 a month</td>\n",
       "      <td>NA</td>\n",
       "      <td>Data Scientist</td>\n",
       "      <td>120000.0</td>\n",
       "      <td>Singapore</td>\n",
       "    </tr>\n",
       "    <tr>\n",
       "      <th>35</th>\n",
       "      <td>Singapore</td>\n",
       "      <td>Cresco Data Pte Ltd</td>\n",
       "      <td>Data Scientist Duties:. Providing insights bas...</td>\n",
       "      <td>NA</td>\n",
       "      <td>Tanjong Pagar</td>\n",
       "      <td>NA</td>\n",
       "      <td>$3,500 - $4,500 a month</td>\n",
       "      <td>NA</td>\n",
       "      <td>Data Scientist</td>\n",
       "      <td>48000.0</td>\n",
       "      <td>Singapore</td>\n",
       "    </tr>\n",
       "    <tr>\n",
       "      <th>41</th>\n",
       "      <td>Singapore</td>\n",
       "      <td>iKas International (Asia) Pte Ltd</td>\n",
       "      <td>Have extensive experience in data analytics. U...</td>\n",
       "      <td>NA</td>\n",
       "      <td>Singapore</td>\n",
       "      <td>NA</td>\n",
       "      <td>$7,000 - $9,000 a month</td>\n",
       "      <td>NA</td>\n",
       "      <td>Data Scientist</td>\n",
       "      <td>96000.0</td>\n",
       "      <td>Singapore</td>\n",
       "    </tr>\n",
       "    <tr>\n",
       "      <th>58</th>\n",
       "      <td>Singapore</td>\n",
       "      <td>TSA Solutions</td>\n",
       "      <td>Data Scientist - Summary*. Minimum 2 year expe...</td>\n",
       "      <td>NA</td>\n",
       "      <td>Pasir Panjang</td>\n",
       "      <td>NA</td>\n",
       "      <td>$4,200 a month</td>\n",
       "      <td>NA</td>\n",
       "      <td>Data Scientist</td>\n",
       "      <td>50400.0</td>\n",
       "      <td>Singapore</td>\n",
       "    </tr>\n",
       "  </tbody>\n",
       "</table>\n",
       "</div>"
      ],
      "text/plain": [
       "         city                            company  \\\n",
       "2   Singapore                         EkkBaz.com   \n",
       "16  Singapore                            UMeKang   \n",
       "35  Singapore                Cresco Data Pte Ltd   \n",
       "41  Singapore  iKas International (Asia) Pte Ltd   \n",
       "58  Singapore                      TSA Solutions   \n",
       "\n",
       "                                          description experience  \\\n",
       "2   Selecting features, building and optimizing cl...         NA   \n",
       "16  Experienced with Predictive Analytics, advance...         NA   \n",
       "35  Data Scientist Duties:. Providing insights bas...         NA   \n",
       "41  Have extensive experience in data analytics. U...         NA   \n",
       "58  Data Scientist - Summary*. Minimum 2 year expe...         NA   \n",
       "\n",
       "         location reviews                    salary stars  \\\n",
       "2      Ang Mo Kio      NA   $1,000 - $2,000 a month    NA   \n",
       "16      Singapore      NA  $9,000 - $11,000 a month    NA   \n",
       "35  Tanjong Pagar      NA   $3,500 - $4,500 a month    NA   \n",
       "41      Singapore      NA   $7,000 - $9,000 a month    NA   \n",
       "58  Pasir Panjang      NA            $4,200 a month    NA   \n",
       "\n",
       "                    title  cleanedsalary    country  \n",
       "2   Data Scientist Intern        18000.0  Singapore  \n",
       "16         Data Scientist       120000.0  Singapore  \n",
       "35         Data Scientist        48000.0  Singapore  \n",
       "41         Data Scientist        96000.0  Singapore  \n",
       "58         Data Scientist        50400.0  Singapore  "
      ]
     },
     "execution_count": 22,
     "metadata": {},
     "output_type": "execute_result"
    }
   ],
   "source": [
    "dfcn.head()"
   ]
  },
  {
   "cell_type": "markdown",
   "metadata": {},
   "source": [
    "#### Title processing.\n",
    "\n",
    "One-hot encoded if certain keywords are in the title. Self explantory"
   ]
  },
  {
   "cell_type": "code",
   "execution_count": 23,
   "metadata": {
    "collapsed": true
   },
   "outputs": [],
   "source": [
    "def isdatascientist(element):\n",
    "    if \"data scientist\" in element.lower():\n",
    "        return 1\n",
    "    else: return 0\n",
    "    \n",
    "def isdataanalyst(element):\n",
    "    if \"analyst\" in element.lower() and \"data\" in element.lower():\n",
    "        return 1\n",
    "    else: return 0\n",
    "    \n",
    "def isengineer(element):\n",
    "    if \"engineer\" in element.lower() and \"data\" in element.lower():\n",
    "            return 1\n",
    "    else: return 0\n",
    "    \n",
    "def isbusinessanalyst(element):\n",
    "    if \"analyst\" in element.lower() and \"business\" in element.lower():\n",
    "        return 1\n",
    "    else: return 0\n",
    "    \n",
    "def isintern(element):\n",
    "    if \"intern\" in element.lower():\n",
    "        return 1\n",
    "    else: return 0\n",
    "    \n",
    "def isboss(element):\n",
    "    bosses = ['head','chief','boss','manager','director','lead','senior']\n",
    "    for boss in bosses:\n",
    "        if boss in element.lower():\n",
    "            return 1\n",
    "        else:\n",
    "            continue\n",
    "    return 0\n",
    "    "
   ]
  },
  {
   "cell_type": "code",
   "execution_count": 24,
   "metadata": {},
   "outputs": [
    {
     "name": "stderr",
     "output_type": "stream",
     "text": [
      "/Users/melvinperera/anaconda/lib/python2.7/site-packages/ipykernel_launcher.py:1: SettingWithCopyWarning: \n",
      "A value is trying to be set on a copy of a slice from a DataFrame.\n",
      "Try using .loc[row_indexer,col_indexer] = value instead\n",
      "\n",
      "See the caveats in the documentation: http://pandas.pydata.org/pandas-docs/stable/indexing.html#indexing-view-versus-copy\n",
      "  \"\"\"Entry point for launching an IPython kernel.\n",
      "/Users/melvinperera/anaconda/lib/python2.7/site-packages/ipykernel_launcher.py:2: SettingWithCopyWarning: \n",
      "A value is trying to be set on a copy of a slice from a DataFrame.\n",
      "Try using .loc[row_indexer,col_indexer] = value instead\n",
      "\n",
      "See the caveats in the documentation: http://pandas.pydata.org/pandas-docs/stable/indexing.html#indexing-view-versus-copy\n",
      "  \n",
      "/Users/melvinperera/anaconda/lib/python2.7/site-packages/ipykernel_launcher.py:3: SettingWithCopyWarning: \n",
      "A value is trying to be set on a copy of a slice from a DataFrame.\n",
      "Try using .loc[row_indexer,col_indexer] = value instead\n",
      "\n",
      "See the caveats in the documentation: http://pandas.pydata.org/pandas-docs/stable/indexing.html#indexing-view-versus-copy\n",
      "  This is separate from the ipykernel package so we can avoid doing imports until\n",
      "/Users/melvinperera/anaconda/lib/python2.7/site-packages/ipykernel_launcher.py:4: SettingWithCopyWarning: \n",
      "A value is trying to be set on a copy of a slice from a DataFrame.\n",
      "Try using .loc[row_indexer,col_indexer] = value instead\n",
      "\n",
      "See the caveats in the documentation: http://pandas.pydata.org/pandas-docs/stable/indexing.html#indexing-view-versus-copy\n",
      "  after removing the cwd from sys.path.\n",
      "/Users/melvinperera/anaconda/lib/python2.7/site-packages/ipykernel_launcher.py:5: SettingWithCopyWarning: \n",
      "A value is trying to be set on a copy of a slice from a DataFrame.\n",
      "Try using .loc[row_indexer,col_indexer] = value instead\n",
      "\n",
      "See the caveats in the documentation: http://pandas.pydata.org/pandas-docs/stable/indexing.html#indexing-view-versus-copy\n",
      "  \"\"\"\n",
      "/Users/melvinperera/anaconda/lib/python2.7/site-packages/ipykernel_launcher.py:6: SettingWithCopyWarning: \n",
      "A value is trying to be set on a copy of a slice from a DataFrame.\n",
      "Try using .loc[row_indexer,col_indexer] = value instead\n",
      "\n",
      "See the caveats in the documentation: http://pandas.pydata.org/pandas-docs/stable/indexing.html#indexing-view-versus-copy\n",
      "  \n"
     ]
    }
   ],
   "source": [
    "dfcn['data_scientist'] = dfcn['title'].map(isdatascientist)\n",
    "dfcn['data_analyst'] = dfcn['title'].map(isdataanalyst)\n",
    "dfcn['business_analyst'] = dfcn['title'].map(isbusinessanalyst)\n",
    "dfcn['data_engineer'] = dfcn['title'].map(isengineer)\n",
    "dfcn['intern'] = dfcn['title'].map(isintern)\n",
    "dfcn['boss'] = dfcn['title'].map(isboss)"
   ]
  },
  {
   "cell_type": "markdown",
   "metadata": {},
   "source": [
    "#### Company processing.\n",
    "Using a list of Fortune500 companies in 2017, I one-hot encoded them to label the companies."
   ]
  },
  {
   "cell_type": "code",
   "execution_count": 25,
   "metadata": {
    "collapsed": true
   },
   "outputs": [],
   "source": [
    "f500 = pd.read_csv('Fortune 500 Global List 2017_Someka V2.csv',skiprows=6)\n",
    "f500list = []\n",
    "for f in f500['Company Name'].dropna().values:\n",
    "    try:\n",
    "        f500list.append(unicode(f))\n",
    "    except:\n",
    "        pass"
   ]
  },
  {
   "cell_type": "code",
   "execution_count": 26,
   "metadata": {},
   "outputs": [
    {
     "data": {
      "text/plain": [
       "[u'Walmart',\n",
       " u'State Grid',\n",
       " u'Sinopec Group',\n",
       " u'China National Petroleum',\n",
       " u'Toyota Motor',\n",
       " u'Volkswagen',\n",
       " u'Royal Dutch Shell',\n",
       " u'Berkshire Hathaway',\n",
       " u'Apple',\n",
       " u'Exxon Mobil',\n",
       " u'McKesson',\n",
       " u'BP',\n",
       " u'UnitedHealth Group',\n",
       " u'CVS Health',\n",
       " u'Samsung Electronics',\n",
       " u'Glencore',\n",
       " u'Daimler',\n",
       " u'General Motors',\n",
       " u'AT&T',\n",
       " u'EXOR Group',\n",
       " u'Ford Motor',\n",
       " u'Industrial & Commer. Bank of China',\n",
       " u'AmerisourceBergen',\n",
       " u'China State Construction Engineering',\n",
       " u'AXA',\n",
       " u'Amazon.com',\n",
       " u'Hon Hai Precision Industry',\n",
       " u'China Construction Bank',\n",
       " u'Honda Motor',\n",
       " u'Total',\n",
       " u'General Electric',\n",
       " u'Verizon',\n",
       " u'Japan Post Holdings',\n",
       " u'Allianz',\n",
       " u'Cardinal Health',\n",
       " u'Costco',\n",
       " u'Walgreens',\n",
       " u'Agricultural Bank of China',\n",
       " u'Ping An Insurance',\n",
       " u'Kroger',\n",
       " u'SAIC Motor',\n",
       " u'Bank of China',\n",
       " u'BNP Paribas',\n",
       " u'Nissan Motor',\n",
       " u'Chevron',\n",
       " u'Fannie Mae',\n",
       " u'China Mobile Communications',\n",
       " u'JP Morgan Chase',\n",
       " u'Legal & General Group',\n",
       " u'Nippon Tel. & Tel.',\n",
       " u'China Life Insurance',\n",
       " u'BMW',\n",
       " u'Express Scripts Holding',\n",
       " u'Trafigura Beheer',\n",
       " u'China Railway Engineering',\n",
       " u'Prudential plc',\n",
       " u'Assicurazioni Generali',\n",
       " u'China Railway Construction',\n",
       " u'Home Depot',\n",
       " u'Boeing',\n",
       " u'Wells Fargo',\n",
       " u'Bank of America Corp.',\n",
       " u'Gazprom',\n",
       " u'Alphabet',\n",
       " u'Siemens',\n",
       " u'Carrefour',\n",
       " u'Dongfeng Motor Group',\n",
       " u'Microsoft',\n",
       " u'Anthem',\n",
       " u'Hitachi',\n",
       " u'SoftBank Group',\n",
       " u'Banco Santander',\n",
       " u'Citigroup',\n",
       " u'Petrobras',\n",
       " u'Bosch',\n",
       " u'Deutsche Telekom',\n",
       " u'Hyundai Motor',\n",
       " u'Comcast',\n",
       " u'Credit Agricole',\n",
       " u'IBM',\n",
       " u'Huawei Investment & Holding',\n",
       " u'Enel',\n",
       " u'State Farm Insurance Cos.',\n",
       " u'China Resources National',\n",
       " u'AEON',\n",
       " u'HSBC Holdings',\n",
       " u'Pacific Construction Group',\n",
       " u'Aviva',\n",
       " u'Uniper',\n",
       " u'Tesco',\n",
       " u'GDF Suez',\n",
       " u'Airbus Group',\n",
       " u'SK Holdings',\n",
       " u'Phillips 66',\n",
       " u'Johnson & Johnson',\n",
       " u'Procter & Gamble',\n",
       " u'U.S. Postal Service',\n",
       " u'China Southern Power Grid',\n",
       " u'China South Industries Group',\n",
       " u'Lukoil',\n",
       " u'China Communications Construction',\n",
       " u'Groupe BPCE',\n",
       " u'Sony',\n",
       " u'Valero Energy',\n",
       " u'Target',\n",
       " u'Societe Generale',\n",
       " u'Munich Re',\n",
       " u'Panasonic',\n",
       " u'Nippon Life Insurance',\n",
       " u'Zurich Insurance Group',\n",
       " u\"People's Insurance Co. of China\",\n",
       " u'China National Offshore Oil',\n",
       " u'Marubeni',\n",
       " u'Deutsche Post',\n",
       " u'Freddie Mac',\n",
       " u'China Post Group',\n",
       " u'China Minmetals',\n",
       " u'Lloyds Banking Group',\n",
       " u\"Lowe's\",\n",
       " u'Metro',\n",
       " u'Dell Technologies',\n",
       " u'China FAW Group',\n",
       " u'BASF',\n",
       " u'JX Holdings',\n",
       " u'MetLife',\n",
       " u'Tewoo Group',\n",
       " u'Aetna',\n",
       " u'PepsiCo',\n",
       " u'ENI',\n",
       " u'China Telecommunications',\n",
       " u'Archer Daniels Midland',\n",
       " u'China North Industries',\n",
       " u'COFCO',\n",
       " u'Beijing Automotive Group',\n",
       " u'UPS',\n",
       " u'Anbang Insurance Group',\n",
       " u'Peugeot',\n",
       " u'Albertsons Cos.',\n",
       " u'Dai-ichi Life Insurance',\n",
       " u'Sinochem',\n",
       " u'Intel',\n",
       " u'Mitsubishi Corp.',\n",
       " u'Groupe Auchan',\n",
       " u'Aegon',\n",
       " u'Prudential Financial',\n",
       " u'Vodafone Group',\n",
       " u'Unilever',\n",
       " u'Banco do Brasil',\n",
       " u'Pemex',\n",
       " u'Telefonica',\n",
       " u'Banco Bradesco',\n",
       " u'United Technologies',\n",
       " u'ArcelorMittal',\n",
       " u'Renault',\n",
       " u'Rosneft Oil',\n",
       " u'Shandong Weiqiao Pioneering',\n",
       " u'Marathon Petroleum',\n",
       " u'Walt Disney',\n",
       " u'Aviation Industry Corp. of China',\n",
       " u'ING Group',\n",
       " u'Mitsubishi UFJ Financial Group',\n",
       " u'Royal Ahold',\n",
       " u'Humana',\n",
       " u'Seven & I Holdings',\n",
       " u'Indian Oil',\n",
       " u'Roche Group',\n",
       " u'HNA Group',\n",
       " u'Bank of Communications',\n",
       " u'CITIC Group',\n",
       " u'Pfizer',\n",
       " u'Bayer',\n",
       " u'AIG',\n",
       " u'America Movil',\n",
       " u'Korea Electric Power',\n",
       " u'Lockheed Martin',\n",
       " u'Sysco',\n",
       " u'FedEx',\n",
       " u'Hewlett Packard Enterprise',\n",
       " u'Louis Dreyfus Commodities',\n",
       " u'Amer International Group',\n",
       " u'Petronas',\n",
       " u'Tokyo Electric Power',\n",
       " u'Novartis',\n",
       " u'Cisco Systems',\n",
       " u'MS&AD Insurance',\n",
       " u'Deutsche Bank',\n",
       " u'Power China',\n",
       " u'JBS',\n",
       " u'PTT',\n",
       " u'Tokio Marine Holdings',\n",
       " u'HP',\n",
       " u'RWE',\n",
       " u'Dow Chemical',\n",
       " u'Finatis',\n",
       " u'Wesfarmers',\n",
       " u'Sinopharm',\n",
       " u'CNP Assurances',\n",
       " u'LG Electronics',\n",
       " u'Sumitomo Mitsui Financial Group',\n",
       " u'Reliance Industries',\n",
       " u'Baosteel Group',\n",
       " u'Noble Group',\n",
       " u'Anheuser-Busch InBev',\n",
       " u'Statoil',\n",
       " u'POSCO',\n",
       " u'Kia Motors',\n",
       " u'Orange',\n",
       " u'ChemChina',\n",
       " u'Deutsche Bahn',\n",
       " u'Continental',\n",
       " u'HCA Holdings',\n",
       " u'Itochu',\n",
       " u'China Merchants Bank',\n",
       " u'State Bank of India',\n",
       " u'Woolworths',\n",
       " u'KDDI',\n",
       " u'Swiss Re',\n",
       " u'HeBei Iron & Steel Group',\n",
       " u'CEFC China Energy',\n",
       " u'Banco Bilbao Vizcaya Argentaria',\n",
       " u'ThyssenKrupp',\n",
       " u'Saint-Gobain',\n",
       " u'Lenovo Group',\n",
       " u'Vinci',\n",
       " u'Nippon Steel & Sumitomo Metal',\n",
       " u'Bunge',\n",
       " u'Industrial Bank',\n",
       " u'E.ON',\n",
       " u'Sberbank',\n",
       " u'China Shipbuilding Industry',\n",
       " u'Christian Dior',\n",
       " u'Coca-Cola',\n",
       " u'Denso',\n",
       " u'Fujitsu',\n",
       " u'Guangzhou Automobile Industry Group',\n",
       " u'Wilmar International',\n",
       " u'Sanofi',\n",
       " u'China United Network Communications',\n",
       " u'Sumitomo Life Insurance',\n",
       " u'New York Life Insurance',\n",
       " u'Centene',\n",
       " u'Shanghai Pudong Devel. Bank',\n",
       " u'Hanwha',\n",
       " u'Tata Motors',\n",
       " u'Aluminum Corp. of China',\n",
       " u'Mitsui',\n",
       " u'Manulife Financial',\n",
       " u'China Minsheng Banking',\n",
       " u'China Pacific Insurance',\n",
       " u'American Airlines Group',\n",
       " u'Nationwide',\n",
       " u'Merck',\n",
       " u'Cigna',\n",
       " u'Delta Air Lines',\n",
       " u'Best Buy',\n",
       " u'China National Bldg. Materials Group',\n",
       " u'Honeywell International',\n",
       " u'JD.Com',\n",
       " u'Mitsubishi Electric',\n",
       " u'ZF Friedrichshafen',\n",
       " u'Caterpillar',\n",
       " u'Liberty Mutual Insurance Group',\n",
       " u'Power Corp. of Canada',\n",
       " u'Morgan Stanley',\n",
       " u'Hengli Group',\n",
       " u'SSE',\n",
       " u'Massachusetts Mutual Life',\n",
       " u'Goldman Sachs Group',\n",
       " u'Johnson Controls International',\n",
       " u'GlaxoSmithKline',\n",
       " u'China Huaneng Group',\n",
       " u'Energy Transfer Equity',\n",
       " u'Shenhua Group',\n",
       " u'Greenland Holding Group',\n",
       " u'TIAA-CREF',\n",
       " u'Jardine Matheson',\n",
       " u'Oracle',\n",
       " u'ACS',\n",
       " u'Sumitomo',\n",
       " u'Tyson Foods',\n",
       " u'Barclays',\n",
       " u'Poste Italiane',\n",
       " u'Centrica',\n",
       " u'United Continental Holdings',\n",
       " u'Allstate',\n",
       " u'Pertamina',\n",
       " u'Magna International',\n",
       " u'UBS Group',\n",
       " u'Intesa Sanpaolo',\n",
       " u'Weston',\n",
       " u'Mitsubishi Heavy Industries',\n",
       " u'Rajesh Exports',\n",
       " u'Pegatron',\n",
       " u'Meiji Yasuda Life Insurance',\n",
       " u'SABIC',\n",
       " u'Bouygues',\n",
       " u'Volvo',\n",
       " u'Talanx',\n",
       " u'Lufthansa Group',\n",
       " u'Royal Bank of Canada',\n",
       " u'Accenture',\n",
       " u'Repsol',\n",
       " u'China Vanke',\n",
       " u'Publix Super Markets',\n",
       " u'Edeka Zentrale',\n",
       " u\"Sainsbury's\",\n",
       " u'Alimentation Couche-Tard',\n",
       " u'China Energy Engineering',\n",
       " u'Hyundai Heavy Industries',\n",
       " u'ABB',\n",
       " u'American Express',\n",
       " u'Rio Tinto Group',\n",
       " u'SNCF',\n",
       " u'CRRC',\n",
       " u'CK Hutchison Holdings',\n",
       " u'Jizhong Energy Group',\n",
       " u'TJX',\n",
       " u'Xinxing Cathay International',\n",
       " u'Hyundai Mobis',\n",
       " u'Aisin Seiki',\n",
       " u'Rite Aid',\n",
       " u'Shaanxi Yanchang Petroleum',\n",
       " u'DZ Bank',\n",
       " u'UniCredit Group',\n",
       " u'China Everbright Group',\n",
       " u'Daiwa House Industry',\n",
       " u'Nike',\n",
       " u'Iberdrola',\n",
       " u'Commonwealth Bank',\n",
       " u'Sinomach',\n",
       " u'Fresenius',\n",
       " u'China Aerospace Science & Technology',\n",
       " u'Shaanxi Coal & Chemical Industry',\n",
       " u'Evergrande Real Estate Group',\n",
       " u'Jiangxi Copper',\n",
       " u'Sompo Japan Nipponkoa',\n",
       " u'China Poly Group',\n",
       " u'Chubb',\n",
       " u'Zhejiang Geely Holding Group',\n",
       " u'Exelon',\n",
       " u'General Dynamics',\n",
       " u'BT Group',\n",
       " u'Canon',\n",
       " u'Zhejiang Materials Industry Group',\n",
       " u'Mitsubishi Chemical Holdings',\n",
       " u'BHP Billiton',\n",
       " u'Toronto-Dominion Bank',\n",
       " u'Fuji Heavy Industries',\n",
       " u'Bridgestone',\n",
       " u'Credit Suisse Group',\n",
       " u'China Aerospace Science & Industry',\n",
       " u'JFE Holdings',\n",
       " u'Mizuho Financial Group',\n",
       " u'Gilead Sciences',\n",
       " u'CHS',\n",
       " u'Bharat Petroleum',\n",
       " u'3M',\n",
       " u'China Electronics',\n",
       " u'CRH',\n",
       " u'China State Shipbuilding',\n",
       " u'Jiangsu Shagang Group',\n",
       " u'China Ocean Shipping',\n",
       " u'Mazda Motor',\n",
       " u'China Power Investment',\n",
       " u'Taiwan Semiconductor',\n",
       " u'Vale',\n",
       " u'Time Warner',\n",
       " u'Shandong Energy Group',\n",
       " u'Suzuki Motor',\n",
       " u'LyondellBasell Industries',\n",
       " u'Royal Philips',\n",
       " u'Charter Communications',\n",
       " u'Medtronic',\n",
       " u'Northwestern Mutual',\n",
       " u\"L'Oreal\",\n",
       " u'Dalian Wanda Group',\n",
       " u'Medipal Holdings',\n",
       " u'China Huadian',\n",
       " u'AIA Group',\n",
       " u'Hindustan Petroleum',\n",
       " u'Migros Group',\n",
       " u'Air France-KLM Group',\n",
       " u'Compass Group',\n",
       " u'Schlumberger',\n",
       " u'Kansai Electric Power',\n",
       " u'Quanta Computer',\n",
       " u'Westpac Banking',\n",
       " u'Coop Group',\n",
       " u'Facebook',\n",
       " u'Travelers',\n",
       " u'Capital One Financial',\n",
       " u'Twenty-First Century Fox',\n",
       " u'China Guodian',\n",
       " u'LafargeHolcim',\n",
       " u'Schneider Electric',\n",
       " u'China Electronics Technology Group',\n",
       " u'United Services Auto. Assn.',\n",
       " u'World Fuel Services',\n",
       " u'Phoenix Pharmahandel',\n",
       " u'Veolia Environnement',\n",
       " u'National Australia Bank',\n",
       " u'Philip Morris International',\n",
       " u'Deere',\n",
       " u'East Japan Railway',\n",
       " u'Achmea',\n",
       " u'Kraft Heinz',\n",
       " u'Cathay Life Insurance',\n",
       " u'Tech Data',\n",
       " u'Samsung Life Insurance',\n",
       " u'Avnet',\n",
       " u'Nokia',\n",
       " u'Enbridge',\n",
       " u'Gas Natural Fenosa',\n",
       " u'Australia & New Zeal. Bnkg.',\n",
       " u'Ericsson',\n",
       " u'Sumitomo Electric Industries',\n",
       " u'Mondelez International',\n",
       " u'Old Mutual',\n",
       " u'Idemitsu Kosan',\n",
       " u'Bank of Nova Scotia',\n",
       " u\"Macy's\",\n",
       " u'Mapfre Group',\n",
       " u'La Poste',\n",
       " u'Inditex',\n",
       " u'AbbVie',\n",
       " u'Datong Coal Mine Group',\n",
       " u'Lotte Shopping',\n",
       " u'Standard Life',\n",
       " u'Shanxi Coking Coal Group',\n",
       " u'Adecco Group',\n",
       " u'International Airlines Group',\n",
       " u\"McDonald's\",\n",
       " u'NEC',\n",
       " u'DuPont',\n",
       " u'China National Aviation Fuel Group',\n",
       " u'Northrop Grumman',\n",
       " u'Brookfield Asset Management',\n",
       " u'Mercantil Servicios Financieros',\n",
       " u'SAP',\n",
       " u'ConocoPhillips',\n",
       " u'Yangquan Coal Industry Group',\n",
       " u'Danone',\n",
       " u'Samsung C&T',\n",
       " u'Shanxi LuAn Mining Group',\n",
       " u'Raytheon',\n",
       " u'Midea Group',\n",
       " u'Chubu Electric Power',\n",
       " u'BAE Systems',\n",
       " u'Tesoro',\n",
       " u'China Datang',\n",
       " u'Flextronics International',\n",
       " u'Arrow Electronics',\n",
       " u'Heraeus Holding',\n",
       " u'Compal Electronics',\n",
       " u'Yango Financial Holding',\n",
       " u'Qualcomm',\n",
       " u'Alfresa Holdings',\n",
       " u'Alibaba Group Holding',\n",
       " u'Progressive',\n",
       " u'Duke Energy',\n",
       " u'Michelin',\n",
       " u'Country Garden Holdings',\n",
       " u'Heineken Holding',\n",
       " u'Enterprise Products',\n",
       " u'AstraZeneca',\n",
       " u'Amgen',\n",
       " u'Rabobank',\n",
       " u'Altice',\n",
       " u'Onex',\n",
       " u'US Foods Holding',\n",
       " u'Shanxi Jincheng Anthracite Coal Mining',\n",
       " u'Randstad Holding',\n",
       " u'Tencent Holdings',\n",
       " u'LG Display',\n",
       " u'Emirates Group',\n",
       " u'U.S. Bancorp',\n",
       " u'H & M Hennes & Mauritz',\n",
       " u'Aflac',\n",
       " u'Sodexo',\n",
       " u'Suning Commerce Group',\n",
       " u'GS Caltex',\n",
       " u'Ultrapar Holdings',\n",
       " u'Xiamen C&D',\n",
       " u'Sears Holdings',\n",
       " u'China General Technology',\n",
       " u'National Grid',\n",
       " u'Dollar General',\n",
       " u'Telecom Italia',\n",
       " u'Xiamen ITG Holding Group',\n",
       " u'Xinjiang Guanghui Industry Investment',\n",
       " u'Teva Pharmaceutical Industries',\n",
       " u'New China Life Insurance',\n",
       " u'Morrisons',\n",
       " u'TUI',\n",
       " u'AutoNation']"
      ]
     },
     "execution_count": 26,
     "metadata": {},
     "output_type": "execute_result"
    }
   ],
   "source": [
    "f500list"
   ]
  },
  {
   "cell_type": "code",
   "execution_count": 27,
   "metadata": {},
   "outputs": [
    {
     "name": "stderr",
     "output_type": "stream",
     "text": [
      "/Users/melvinperera/anaconda/lib/python2.7/site-packages/ipykernel_launcher.py:7: SettingWithCopyWarning: \n",
      "A value is trying to be set on a copy of a slice from a DataFrame.\n",
      "Try using .loc[row_indexer,col_indexer] = value instead\n",
      "\n",
      "See the caveats in the documentation: http://pandas.pydata.org/pandas-docs/stable/indexing.html#indexing-view-versus-copy\n",
      "  import sys\n"
     ]
    }
   ],
   "source": [
    "def isf500(element):\n",
    "    if any(element in x for x in f500list):\n",
    "        return 1\n",
    "    else:\n",
    "        return 0\n",
    "    \n",
    "dfcn['f500'] = dfcn['company'].map(isf500)"
   ]
  },
  {
   "cell_type": "code",
   "execution_count": 28,
   "metadata": {
    "scrolled": true
   },
   "outputs": [
    {
     "data": {
      "text/plain": [
       "0    3240\n",
       "1      70\n",
       "Name: f500, dtype: int64"
      ]
     },
     "execution_count": 28,
     "metadata": {},
     "output_type": "execute_result"
    }
   ],
   "source": [
    "dfcn['f500'].value_counts()"
   ]
  },
  {
   "cell_type": "markdown",
   "metadata": {},
   "source": [
    "It is quite unbalanced... but I'll just leave it in for now as I think that it would have a pretty decent predictive power.\n",
    "\n",
    "---"
   ]
  },
  {
   "cell_type": "markdown",
   "metadata": {},
   "source": [
    "Dropping unneccesary columns.\n",
    "\n",
    "I have decided to drop experience as it is very sparse.\n",
    "I have dropped location too as it has too many unique locations. I will use city as the location identifier instead. \n",
    "\n",
    "---"
   ]
  },
  {
   "cell_type": "markdown",
   "metadata": {},
   "source": [
    "#### Reviews and Stars Processing\n",
    "I am going to bin the stars and reviews columns into binary ones, whether it is being reviewed and starred or if it is not. With that, I can drop the reviews and stars row."
   ]
  },
  {
   "cell_type": "code",
   "execution_count": 30,
   "metadata": {
    "collapsed": true
   },
   "outputs": [],
   "source": [
    "dfnewnew = dfcn.drop(['salary','experience','location'], axis=1)"
   ]
  },
  {
   "cell_type": "code",
   "execution_count": 31,
   "metadata": {
    "scrolled": true
   },
   "outputs": [
    {
     "data": {
      "text/plain": [
       "NA                1950\n",
       "16 reviews          97\n",
       "33 reviews          84\n",
       "2 reviews           82\n",
       "158 reviews         63\n",
       "4 reviews           57\n",
       "3 reviews           55\n",
       "5 reviews           48\n",
       "10 reviews          41\n",
       "9 reviews           39\n",
       "6 reviews           38\n",
       "7 reviews           36\n",
       "29 reviews          27\n",
       "13 reviews          25\n",
       "1,842 reviews       24\n",
       "8 reviews           22\n",
       "15 reviews          21\n",
       "20 reviews          21\n",
       "672 reviews         19\n",
       "14 reviews          17\n",
       "905 reviews         16\n",
       "18 reviews          16\n",
       "11 reviews          15\n",
       "156 reviews         13\n",
       "36 reviews          12\n",
       "141 reviews         12\n",
       "39 reviews          12\n",
       "85 reviews          11\n",
       "12 reviews          10\n",
       "26 reviews           9\n",
       "                  ... \n",
       "834 reviews          1\n",
       "5,425 reviews        1\n",
       "221 reviews          1\n",
       "90 reviews           1\n",
       "4,723 reviews        1\n",
       "364 reviews          1\n",
       "52 reviews           1\n",
       "57 reviews           1\n",
       "94 reviews           1\n",
       "89 reviews           1\n",
       "485 reviews          1\n",
       "524 reviews          1\n",
       "2,850 reviews        1\n",
       "846 reviews          1\n",
       "370 reviews          1\n",
       "151 reviews          1\n",
       "11,406 reviews       1\n",
       "104 reviews          1\n",
       "181 reviews          1\n",
       "1,063 reviews        1\n",
       "736 reviews          1\n",
       "34 reviews           1\n",
       "242 reviews          1\n",
       "31 reviews           1\n",
       "2,087 reviews        1\n",
       "86 reviews           1\n",
       "984 reviews          1\n",
       "1,338 reviews        1\n",
       "1,959 reviews        1\n",
       "134 reviews          1\n",
       "Name: reviews, Length: 210, dtype: int64"
      ]
     },
     "execution_count": 31,
     "metadata": {},
     "output_type": "execute_result"
    }
   ],
   "source": [
    "dfnewnew.reviews.value_counts()"
   ]
  },
  {
   "cell_type": "code",
   "execution_count": 32,
   "metadata": {},
   "outputs": [
    {
     "data": {
      "text/plain": [
       "(1950, 15)"
      ]
     },
     "execution_count": 32,
     "metadata": {},
     "output_type": "execute_result"
    }
   ],
   "source": [
    "dfnewnew.loc[(dfnewnew.stars == 'NA') & (dfnewnew.reviews == 'NA')].shape # no reviews = no stars"
   ]
  },
  {
   "cell_type": "code",
   "execution_count": 33,
   "metadata": {
    "collapsed": true
   },
   "outputs": [],
   "source": [
    "def reviewstar(row):\n",
    "    \"if there are reviews and stars, 1. else: 0\"\n",
    "    if row in 'NA':\n",
    "        return 0\n",
    "    else:\n",
    "        return 1"
   ]
  },
  {
   "cell_type": "code",
   "execution_count": 34,
   "metadata": {
    "collapsed": true
   },
   "outputs": [],
   "source": [
    "dfnewnew['reviewstar'] = dfnewnew['reviews'].map(reviewstar)\n",
    "dfnewnewnew = dfnewnew.drop(['reviews','stars'], axis=1)"
   ]
  },
  {
   "cell_type": "code",
   "execution_count": 330,
   "metadata": {},
   "outputs": [
    {
     "data": {
      "text/html": [
       "<div>\n",
       "<style>\n",
       "    .dataframe thead tr:only-child th {\n",
       "        text-align: right;\n",
       "    }\n",
       "\n",
       "    .dataframe thead th {\n",
       "        text-align: left;\n",
       "    }\n",
       "\n",
       "    .dataframe tbody tr th {\n",
       "        vertical-align: top;\n",
       "    }\n",
       "</style>\n",
       "<table border=\"1\" class=\"dataframe\">\n",
       "  <thead>\n",
       "    <tr style=\"text-align: right;\">\n",
       "      <th></th>\n",
       "      <th>count</th>\n",
       "      <th>mean</th>\n",
       "      <th>std</th>\n",
       "      <th>min</th>\n",
       "      <th>25%</th>\n",
       "      <th>50%</th>\n",
       "      <th>75%</th>\n",
       "      <th>max</th>\n",
       "    </tr>\n",
       "    <tr>\n",
       "      <th>country</th>\n",
       "      <th></th>\n",
       "      <th></th>\n",
       "      <th></th>\n",
       "      <th></th>\n",
       "      <th></th>\n",
       "      <th></th>\n",
       "      <th></th>\n",
       "      <th></th>\n",
       "    </tr>\n",
       "  </thead>\n",
       "  <tbody>\n",
       "    <tr>\n",
       "      <th>Australia</th>\n",
       "      <td>209.0</td>\n",
       "      <td>120478.718182</td>\n",
       "      <td>44200.941686</td>\n",
       "      <td>27300.000</td>\n",
       "      <td>94500.00</td>\n",
       "      <td>120750.0</td>\n",
       "      <td>144856.425</td>\n",
       "      <td>265650.0</td>\n",
       "    </tr>\n",
       "    <tr>\n",
       "      <th>Canada</th>\n",
       "      <td>190.0</td>\n",
       "      <td>82135.195147</td>\n",
       "      <td>32373.494670</td>\n",
       "      <td>27305.600</td>\n",
       "      <td>59902.19</td>\n",
       "      <td>79500.0</td>\n",
       "      <td>100111.700</td>\n",
       "      <td>233200.0</td>\n",
       "    </tr>\n",
       "    <tr>\n",
       "      <th>Hong Kong</th>\n",
       "      <td>9.0</td>\n",
       "      <td>92026.666667</td>\n",
       "      <td>57973.738882</td>\n",
       "      <td>27540.000</td>\n",
       "      <td>45900.00</td>\n",
       "      <td>86700.0</td>\n",
       "      <td>122400.000</td>\n",
       "      <td>214200.0</td>\n",
       "    </tr>\n",
       "    <tr>\n",
       "      <th>Singapore</th>\n",
       "      <td>42.0</td>\n",
       "      <td>54374.285714</td>\n",
       "      <td>27756.285436</td>\n",
       "      <td>12000.000</td>\n",
       "      <td>42000.00</td>\n",
       "      <td>48000.0</td>\n",
       "      <td>60000.000</td>\n",
       "      <td>144000.0</td>\n",
       "    </tr>\n",
       "    <tr>\n",
       "      <th>United Kingdom</th>\n",
       "      <td>1326.0</td>\n",
       "      <td>86217.360407</td>\n",
       "      <td>42342.789056</td>\n",
       "      <td>11385.000</td>\n",
       "      <td>56925.00</td>\n",
       "      <td>74520.0</td>\n",
       "      <td>103500.000</td>\n",
       "      <td>279450.0</td>\n",
       "    </tr>\n",
       "    <tr>\n",
       "      <th>United States</th>\n",
       "      <td>1534.0</td>\n",
       "      <td>133148.534589</td>\n",
       "      <td>57440.315359</td>\n",
       "      <td>15095.728</td>\n",
       "      <td>95200.00</td>\n",
       "      <td>126480.0</td>\n",
       "      <td>163200.000</td>\n",
       "      <td>408000.0</td>\n",
       "    </tr>\n",
       "  </tbody>\n",
       "</table>\n",
       "</div>"
      ],
      "text/plain": [
       "                 count           mean           std        min       25%  \\\n",
       "country                                                                    \n",
       "Australia        209.0  120478.718182  44200.941686  27300.000  94500.00   \n",
       "Canada           190.0   82135.195147  32373.494670  27305.600  59902.19   \n",
       "Hong Kong          9.0   92026.666667  57973.738882  27540.000  45900.00   \n",
       "Singapore         42.0   54374.285714  27756.285436  12000.000  42000.00   \n",
       "United Kingdom  1326.0   86217.360407  42342.789056  11385.000  56925.00   \n",
       "United States   1534.0  133148.534589  57440.315359  15095.728  95200.00   \n",
       "\n",
       "                     50%         75%       max  \n",
       "country                                         \n",
       "Australia       120750.0  144856.425  265650.0  \n",
       "Canada           79500.0  100111.700  233200.0  \n",
       "Hong Kong        86700.0  122400.000  214200.0  \n",
       "Singapore        48000.0   60000.000  144000.0  \n",
       "United Kingdom   74520.0  103500.000  279450.0  \n",
       "United States   126480.0  163200.000  408000.0  "
      ]
     },
     "execution_count": 330,
     "metadata": {},
     "output_type": "execute_result"
    }
   ],
   "source": [
    "dfnewnewnew.groupby('country')['cleanedsalary'].describe()"
   ]
  },
  {
   "cell_type": "code",
   "execution_count": 342,
   "metadata": {},
   "outputs": [
    {
     "data": {
      "text/plain": [
       "<seaborn.axisgrid.FacetGrid at 0x12a32a710>"
      ]
     },
     "execution_count": 342,
     "metadata": {},
     "output_type": "execute_result"
    },
    {
     "data": {
      "image/png": "[encoded data removed]",
      "text/plain": [
       "<matplotlib.figure.Figure at 0x12a376ad0>"
      ]
     },
     "metadata": {
      "image/png": {
       "height": 1287,
       "width": 640
      }
     },
     "output_type": "display_data"
    }
   ],
   "source": [
    "g = sns.FacetGrid(dfnewnewnew,row='country',sharey=False, aspect=3)\n",
    "g.map(plt.hist, \"cleanedsalary\", color=\"steelblue\", bins=10, lw=0)"
   ]
  },
  {
   "cell_type": "code",
   "execution_count": 35,
   "metadata": {},
   "outputs": [
    {
     "data": {
      "text/plain": [
       "United States     1534\n",
       "United Kingdom    1326\n",
       "Australia          209\n",
       "Canada             190\n",
       "Singapore           42\n",
       "Hong Kong            9\n",
       "Name: country, dtype: int64"
      ]
     },
     "execution_count": 35,
     "metadata": {},
     "output_type": "execute_result"
    }
   ],
   "source": [
    "dfnewnewnew['country'].value_counts()"
   ]
  },
  {
   "cell_type": "markdown",
   "metadata": {},
   "source": [
    "---\n",
    "\n",
    "Super unbalanced dataset. I decided to drop everything aside from the UK and USA to analyse to create a more balanced dataset."
   ]
  },
  {
   "cell_type": "code",
   "execution_count": 44,
   "metadata": {},
   "outputs": [
    {
     "data": {
      "text/plain": [
       "United States     1534\n",
       "United Kingdom    1326\n",
       "Name: country, dtype: int64"
      ]
     },
     "execution_count": 44,
     "metadata": {},
     "output_type": "execute_result"
    }
   ],
   "source": [
    "dfnew = dfnewnewnew.loc[(dfcn['country'] == 'United Kingdom') | (dfcn['country'] == 'United States')]\n",
    "dfnew['country'].value_counts()"
   ]
  },
  {
   "cell_type": "code",
   "execution_count": 45,
   "metadata": {
    "collapsed": true
   },
   "outputs": [],
   "source": [
    "cleaned = dfnew.reset_index(drop=True)"
   ]
  },
  {
   "cell_type": "code",
   "execution_count": 46,
   "metadata": {
    "collapsed": true
   },
   "outputs": [
    {
     "data": {
      "text/html": [
       "<div>\n",
       "<style>\n",
       "    .dataframe thead tr:only-child th {\n",
       "        text-align: right;\n",
       "    }\n",
       "\n",
       "    .dataframe thead th {\n",
       "        text-align: left;\n",
       "    }\n",
       "\n",
       "    .dataframe tbody tr th {\n",
       "        vertical-align: top;\n",
       "    }\n",
       "</style>\n",
       "<table border=\"1\" class=\"dataframe\">\n",
       "  <thead>\n",
       "    <tr style=\"text-align: right;\">\n",
       "      <th></th>\n",
       "      <th>city</th>\n",
       "      <th>company</th>\n",
       "      <th>description</th>\n",
       "      <th>title</th>\n",
       "      <th>cleanedsalary</th>\n",
       "      <th>country</th>\n",
       "      <th>data_scientist</th>\n",
       "      <th>data_analyst</th>\n",
       "      <th>business_analyst</th>\n",
       "      <th>data_engineer</th>\n",
       "      <th>intern</th>\n",
       "      <th>boss</th>\n",
       "      <th>f500</th>\n",
       "      <th>reviewstar</th>\n",
       "    </tr>\n",
       "  </thead>\n",
       "  <tbody>\n",
       "    <tr>\n",
       "      <th>0</th>\n",
       "      <td>London</td>\n",
       "      <td>La Fosse Associates</td>\n",
       "      <td>Machine learning, data science, big data. Prob...</td>\n",
       "      <td>Head of Analytics</td>\n",
       "      <td>135000.0</td>\n",
       "      <td>United Kingdom</td>\n",
       "      <td>0</td>\n",
       "      <td>0</td>\n",
       "      <td>0</td>\n",
       "      <td>0</td>\n",
       "      <td>0</td>\n",
       "      <td>1</td>\n",
       "      <td>0</td>\n",
       "      <td>0</td>\n",
       "    </tr>\n",
       "    <tr>\n",
       "      <th>1</th>\n",
       "      <td>London</td>\n",
       "      <td>Aspire Data Recruitment</td>\n",
       "      <td>Hands-on experience on statistical modelling/ ...</td>\n",
       "      <td>Head of Predictive Analytics</td>\n",
       "      <td>211500.0</td>\n",
       "      <td>United Kingdom</td>\n",
       "      <td>0</td>\n",
       "      <td>0</td>\n",
       "      <td>0</td>\n",
       "      <td>0</td>\n",
       "      <td>0</td>\n",
       "      <td>1</td>\n",
       "      <td>0</td>\n",
       "      <td>0</td>\n",
       "    </tr>\n",
       "    <tr>\n",
       "      <th>2</th>\n",
       "      <td>London</td>\n",
       "      <td>Data Idols</td>\n",
       "      <td>Commercial knowledge of machine learning techn...</td>\n",
       "      <td>Data Scientist</td>\n",
       "      <td>130500.0</td>\n",
       "      <td>United Kingdom</td>\n",
       "      <td>1</td>\n",
       "      <td>0</td>\n",
       "      <td>0</td>\n",
       "      <td>0</td>\n",
       "      <td>0</td>\n",
       "      <td>0</td>\n",
       "      <td>0</td>\n",
       "      <td>0</td>\n",
       "    </tr>\n",
       "    <tr>\n",
       "      <th>3</th>\n",
       "      <td>London</td>\n",
       "      <td>Tessella Ltd</td>\n",
       "      <td>Data Scientist / Software Developer. Using dat...</td>\n",
       "      <td>Data Scientist / Software Developer</td>\n",
       "      <td>54000.0</td>\n",
       "      <td>United Kingdom</td>\n",
       "      <td>1</td>\n",
       "      <td>0</td>\n",
       "      <td>0</td>\n",
       "      <td>0</td>\n",
       "      <td>0</td>\n",
       "      <td>0</td>\n",
       "      <td>0</td>\n",
       "      <td>0</td>\n",
       "    </tr>\n",
       "    <tr>\n",
       "      <th>4</th>\n",
       "      <td>London</td>\n",
       "      <td>Tech Mavens</td>\n",
       "      <td>PhD with research, publications related to mac...</td>\n",
       "      <td>Machine Learning researcher</td>\n",
       "      <td>144000.0</td>\n",
       "      <td>United Kingdom</td>\n",
       "      <td>0</td>\n",
       "      <td>0</td>\n",
       "      <td>0</td>\n",
       "      <td>0</td>\n",
       "      <td>0</td>\n",
       "      <td>0</td>\n",
       "      <td>0</td>\n",
       "      <td>0</td>\n",
       "    </tr>\n",
       "  </tbody>\n",
       "</table>\n",
       "</div>"
      ],
      "text/plain": [
       "     city                  company  \\\n",
       "0  London      La Fosse Associates   \n",
       "1  London  Aspire Data Recruitment   \n",
       "2  London               Data Idols   \n",
       "3  London             Tessella Ltd   \n",
       "4  London              Tech Mavens   \n",
       "\n",
       "                                         description  \\\n",
       "0  Machine learning, data science, big data. Prob...   \n",
       "1  Hands-on experience on statistical modelling/ ...   \n",
       "2  Commercial knowledge of machine learning techn...   \n",
       "3  Data Scientist / Software Developer. Using dat...   \n",
       "4  PhD with research, publications related to mac...   \n",
       "\n",
       "                                 title  cleanedsalary         country  \\\n",
       "0                    Head of Analytics       135000.0  United Kingdom   \n",
       "1         Head of Predictive Analytics       211500.0  United Kingdom   \n",
       "2                       Data Scientist       130500.0  United Kingdom   \n",
       "3  Data Scientist / Software Developer        54000.0  United Kingdom   \n",
       "4          Machine Learning researcher       144000.0  United Kingdom   \n",
       "\n",
       "   data_scientist  data_analyst  business_analyst  data_engineer  intern  \\\n",
       "0               0             0                 0              0       0   \n",
       "1               0             0                 0              0       0   \n",
       "2               1             0                 0              0       0   \n",
       "3               1             0                 0              0       0   \n",
       "4               0             0                 0              0       0   \n",
       "\n",
       "   boss  f500  reviewstar  \n",
       "0     1     0           0  \n",
       "1     1     0           0  \n",
       "2     0     0           0  \n",
       "3     0     0           0  \n",
       "4     0     0           0  "
      ]
     },
     "execution_count": 46,
     "metadata": {},
     "output_type": "execute_result"
    }
   ],
   "source": [
    "cleaned.head()"
   ]
  },
  {
   "cell_type": "code",
   "execution_count": 47,
   "metadata": {},
   "outputs": [
    {
     "data": {
      "text/plain": [
       "<matplotlib.axes._subplots.AxesSubplot at 0x11cff0310>"
      ]
     },
     "execution_count": 47,
     "metadata": {},
     "output_type": "execute_result"
    },
    {
     "data": {
      "image/png": "[encoded data removed]",
      "text/plain": [
       "<matplotlib.figure.Figure at 0x11cffc990>"
      ]
     },
     "metadata": {
      "image/png": {
       "height": 255,
       "width": 391
      }
     },
     "output_type": "display_data"
    }
   ],
   "source": [
    "cleaned['cleanedsalary'].plot.box()"
   ]
  },
  {
   "cell_type": "markdown",
   "metadata": {},
   "source": [
    "Remove outliers with salary above 250000"
   ]
  },
  {
   "cell_type": "code",
   "execution_count": 48,
   "metadata": {},
   "outputs": [
    {
     "name": "stdout",
     "output_type": "stream",
     "text": [
      "(2860, 14)\n",
      "(2803, 14)\n"
     ]
    }
   ],
   "source": [
    "print cleaned.shape\n",
    "cleaner = cleaned[cleaned['cleanedsalary'] <= 250000]\n",
    "print cleaner.shape"
   ]
  },
  {
   "cell_type": "code",
   "execution_count": 49,
   "metadata": {},
   "outputs": [
    {
     "data": {
      "text/plain": [
       "<matplotlib.axes._subplots.AxesSubplot at 0x11c9a37d0>"
      ]
     },
     "execution_count": 49,
     "metadata": {},
     "output_type": "execute_result"
    },
    {
     "data": {
      "image/png": "[encoded data removed]",
      "text/plain": [
       "<matplotlib.figure.Figure at 0x11d010250>"
      ]
     },
     "metadata": {
      "image/png": {
       "height": 255,
       "width": 412
      }
     },
     "output_type": "display_data"
    }
   ],
   "source": [
    "cleaner['cleanedsalary'].plot.hist(bins=5)"
   ]
  },
  {
   "cell_type": "code",
   "execution_count": 50,
   "metadata": {},
   "outputs": [
    {
     "name": "stderr",
     "output_type": "stream",
     "text": [
      "/Users/melvinperera/anaconda/lib/python2.7/site-packages/ipykernel_launcher.py:4: SettingWithCopyWarning: \n",
      "A value is trying to be set on a copy of a slice from a DataFrame.\n",
      "Try using .loc[row_indexer,col_indexer] = value instead\n",
      "\n",
      "See the caveats in the documentation: http://pandas.pydata.org/pandas-docs/stable/indexing.html#indexing-view-versus-copy\n",
      "  after removing the cwd from sys.path.\n"
     ]
    }
   ],
   "source": [
    "bins = [0, 60000, 100000, 150000, 250000]\n",
    "groupnames = [1,2,3,4]\n",
    "categories = pd.cut(cleaner['cleanedsalary'], bins, labels=groupnames)\n",
    "cleaner['binnedsalary'] = categories"
   ]
  },
  {
   "cell_type": "code",
   "execution_count": 51,
   "metadata": {},
   "outputs": [
    {
     "data": {
      "text/plain": [
       "2    867\n",
       "3    862\n",
       "4    542\n",
       "1    532\n",
       "Name: binnedsalary, dtype: int64"
      ]
     },
     "execution_count": 51,
     "metadata": {},
     "output_type": "execute_result"
    }
   ],
   "source": [
    "cleaner['binnedsalary'].value_counts()"
   ]
  },
  {
   "cell_type": "code",
   "execution_count": 52,
   "metadata": {},
   "outputs": [
    {
     "data": {
      "text/html": [
       "<div>\n",
       "<style>\n",
       "    .dataframe thead tr:only-child th {\n",
       "        text-align: right;\n",
       "    }\n",
       "\n",
       "    .dataframe thead th {\n",
       "        text-align: left;\n",
       "    }\n",
       "\n",
       "    .dataframe tbody tr th {\n",
       "        vertical-align: top;\n",
       "    }\n",
       "</style>\n",
       "<table border=\"1\" class=\"dataframe\">\n",
       "  <thead>\n",
       "    <tr style=\"text-align: right;\">\n",
       "      <th></th>\n",
       "      <th>city</th>\n",
       "      <th>company</th>\n",
       "      <th>description</th>\n",
       "      <th>title</th>\n",
       "      <th>cleanedsalary</th>\n",
       "      <th>country</th>\n",
       "      <th>data_scientist</th>\n",
       "      <th>data_analyst</th>\n",
       "      <th>business_analyst</th>\n",
       "      <th>data_engineer</th>\n",
       "      <th>intern</th>\n",
       "      <th>boss</th>\n",
       "      <th>f500</th>\n",
       "      <th>reviewstar</th>\n",
       "      <th>binnedsalary</th>\n",
       "    </tr>\n",
       "  </thead>\n",
       "  <tbody>\n",
       "    <tr>\n",
       "      <th>0</th>\n",
       "      <td>London</td>\n",
       "      <td>La Fosse Associates</td>\n",
       "      <td>Machine learning, data science, big data. Prob...</td>\n",
       "      <td>Head of Analytics</td>\n",
       "      <td>135000.0</td>\n",
       "      <td>United Kingdom</td>\n",
       "      <td>0</td>\n",
       "      <td>0</td>\n",
       "      <td>0</td>\n",
       "      <td>0</td>\n",
       "      <td>0</td>\n",
       "      <td>1</td>\n",
       "      <td>0</td>\n",
       "      <td>0</td>\n",
       "      <td>3</td>\n",
       "    </tr>\n",
       "    <tr>\n",
       "      <th>1</th>\n",
       "      <td>London</td>\n",
       "      <td>Aspire Data Recruitment</td>\n",
       "      <td>Hands-on experience on statistical modelling/ ...</td>\n",
       "      <td>Head of Predictive Analytics</td>\n",
       "      <td>211500.0</td>\n",
       "      <td>United Kingdom</td>\n",
       "      <td>0</td>\n",
       "      <td>0</td>\n",
       "      <td>0</td>\n",
       "      <td>0</td>\n",
       "      <td>0</td>\n",
       "      <td>1</td>\n",
       "      <td>0</td>\n",
       "      <td>0</td>\n",
       "      <td>4</td>\n",
       "    </tr>\n",
       "    <tr>\n",
       "      <th>2</th>\n",
       "      <td>London</td>\n",
       "      <td>Data Idols</td>\n",
       "      <td>Commercial knowledge of machine learning techn...</td>\n",
       "      <td>Data Scientist</td>\n",
       "      <td>130500.0</td>\n",
       "      <td>United Kingdom</td>\n",
       "      <td>1</td>\n",
       "      <td>0</td>\n",
       "      <td>0</td>\n",
       "      <td>0</td>\n",
       "      <td>0</td>\n",
       "      <td>0</td>\n",
       "      <td>0</td>\n",
       "      <td>0</td>\n",
       "      <td>3</td>\n",
       "    </tr>\n",
       "    <tr>\n",
       "      <th>3</th>\n",
       "      <td>London</td>\n",
       "      <td>Tessella Ltd</td>\n",
       "      <td>Data Scientist / Software Developer. Using dat...</td>\n",
       "      <td>Data Scientist / Software Developer</td>\n",
       "      <td>54000.0</td>\n",
       "      <td>United Kingdom</td>\n",
       "      <td>1</td>\n",
       "      <td>0</td>\n",
       "      <td>0</td>\n",
       "      <td>0</td>\n",
       "      <td>0</td>\n",
       "      <td>0</td>\n",
       "      <td>0</td>\n",
       "      <td>0</td>\n",
       "      <td>1</td>\n",
       "    </tr>\n",
       "    <tr>\n",
       "      <th>4</th>\n",
       "      <td>London</td>\n",
       "      <td>Tech Mavens</td>\n",
       "      <td>PhD with research, publications related to mac...</td>\n",
       "      <td>Machine Learning researcher</td>\n",
       "      <td>144000.0</td>\n",
       "      <td>United Kingdom</td>\n",
       "      <td>0</td>\n",
       "      <td>0</td>\n",
       "      <td>0</td>\n",
       "      <td>0</td>\n",
       "      <td>0</td>\n",
       "      <td>0</td>\n",
       "      <td>0</td>\n",
       "      <td>0</td>\n",
       "      <td>3</td>\n",
       "    </tr>\n",
       "  </tbody>\n",
       "</table>\n",
       "</div>"
      ],
      "text/plain": [
       "     city                  company  \\\n",
       "0  London      La Fosse Associates   \n",
       "1  London  Aspire Data Recruitment   \n",
       "2  London               Data Idols   \n",
       "3  London             Tessella Ltd   \n",
       "4  London              Tech Mavens   \n",
       "\n",
       "                                         description  \\\n",
       "0  Machine learning, data science, big data. Prob...   \n",
       "1  Hands-on experience on statistical modelling/ ...   \n",
       "2  Commercial knowledge of machine learning techn...   \n",
       "3  Data Scientist / Software Developer. Using dat...   \n",
       "4  PhD with research, publications related to mac...   \n",
       "\n",
       "                                 title  cleanedsalary         country  \\\n",
       "0                    Head of Analytics       135000.0  United Kingdom   \n",
       "1         Head of Predictive Analytics       211500.0  United Kingdom   \n",
       "2                       Data Scientist       130500.0  United Kingdom   \n",
       "3  Data Scientist / Software Developer        54000.0  United Kingdom   \n",
       "4          Machine Learning researcher       144000.0  United Kingdom   \n",
       "\n",
       "   data_scientist  data_analyst  business_analyst  data_engineer  intern  \\\n",
       "0               0             0                 0              0       0   \n",
       "1               0             0                 0              0       0   \n",
       "2               1             0                 0              0       0   \n",
       "3               1             0                 0              0       0   \n",
       "4               0             0                 0              0       0   \n",
       "\n",
       "   boss  f500  reviewstar binnedsalary  \n",
       "0     1     0           0            3  \n",
       "1     1     0           0            4  \n",
       "2     0     0           0            3  \n",
       "3     0     0           0            1  \n",
       "4     0     0           0            3  "
      ]
     },
     "execution_count": 52,
     "metadata": {},
     "output_type": "execute_result"
    }
   ],
   "source": [
    "cleaner.head()"
   ]
  },
  {
   "cell_type": "code",
   "execution_count": 53,
   "metadata": {},
   "outputs": [
    {
     "data": {
      "text/plain": [
       "array(['London', 'Manchester', 'Birmingham', 'Liverpool', 'Milton Keynes',\n",
       "       'Bristol', 'Cambridge', 'Oxford', 'Leeds', 'Brighton',\n",
       "       'Southampton', 'Houston', 'San Francisco', 'Mountain View',\n",
       "       'Palo Alto', 'Los Angeles', 'New York', 'San Jose', 'Boston',\n",
       "       'Chicago', 'Seattle', 'Austin', 'Dallas', 'San Diego', 'Denver',\n",
       "       'Portland', 'St Louis', 'Philadelphia', 'Cincinnati', 'Atlanta',\n",
       "       'Berkeley', 'Detroit', 'Miami'], dtype=object)"
      ]
     },
     "execution_count": 53,
     "metadata": {},
     "output_type": "execute_result"
    }
   ],
   "source": [
    "cleaner['city'].unique()"
   ]
  },
  {
   "cell_type": "code",
   "execution_count": 54,
   "metadata": {},
   "outputs": [
    {
     "name": "stdout",
     "output_type": "stream",
     "text": [
      "['Atlanta' 'Austin' 'Berkeley' 'Birmingham' 'Boston' 'Brighton' 'Bristol'\n",
      " 'Cambridge' 'Chicago' 'Cincinnati' 'Dallas' 'Denver' 'Detroit' 'Houston'\n",
      " 'Leeds' 'Liverpool' 'London' 'Los Angeles' 'Manchester' 'Miami'\n",
      " 'Milton Keynes' 'Mountain View' 'New York' 'Oxford' 'Palo Alto'\n",
      " 'Philadelphia' 'Portland' 'San Diego' 'San Francisco' 'San Jose' 'Seattle'\n",
      " 'Southampton' 'St Louis']\n"
     ]
    },
    {
     "name": "stderr",
     "output_type": "stream",
     "text": [
      "/Users/melvinperera/anaconda/lib/python2.7/site-packages/ipykernel_launcher.py:5: SettingWithCopyWarning: \n",
      "A value is trying to be set on a copy of a slice from a DataFrame.\n",
      "Try using .loc[row_indexer,col_indexer] = value instead\n",
      "\n",
      "See the caveats in the documentation: http://pandas.pydata.org/pandas-docs/stable/indexing.html#indexing-view-versus-copy\n",
      "  \"\"\"\n"
     ]
    }
   ],
   "source": [
    "from sklearn.preprocessing import LabelEncoder   # label encoded the cities\n",
    "le = LabelEncoder()\n",
    "le.fit(cleaner['city'].unique())\n",
    "print le.classes_\n",
    "cleaner['citycode'] = le.transform(cleaner['city']) "
   ]
  },
  {
   "cell_type": "code",
   "execution_count": 55,
   "metadata": {
    "scrolled": true
   },
   "outputs": [
    {
     "data": {
      "text/html": [
       "<div>\n",
       "<style>\n",
       "    .dataframe thead tr:only-child th {\n",
       "        text-align: right;\n",
       "    }\n",
       "\n",
       "    .dataframe thead th {\n",
       "        text-align: left;\n",
       "    }\n",
       "\n",
       "    .dataframe tbody tr th {\n",
       "        vertical-align: top;\n",
       "    }\n",
       "</style>\n",
       "<table border=\"1\" class=\"dataframe\">\n",
       "  <thead>\n",
       "    <tr style=\"text-align: right;\">\n",
       "      <th></th>\n",
       "      <th>city</th>\n",
       "      <th>company</th>\n",
       "      <th>description</th>\n",
       "      <th>title</th>\n",
       "      <th>cleanedsalary</th>\n",
       "      <th>country</th>\n",
       "      <th>data_scientist</th>\n",
       "      <th>data_analyst</th>\n",
       "      <th>business_analyst</th>\n",
       "      <th>data_engineer</th>\n",
       "      <th>intern</th>\n",
       "      <th>boss</th>\n",
       "      <th>f500</th>\n",
       "      <th>reviewstar</th>\n",
       "      <th>binnedsalary</th>\n",
       "      <th>citycode</th>\n",
       "    </tr>\n",
       "  </thead>\n",
       "  <tbody>\n",
       "    <tr>\n",
       "      <th>0</th>\n",
       "      <td>London</td>\n",
       "      <td>La Fosse Associates</td>\n",
       "      <td>Machine learning, data science, big data. Prob...</td>\n",
       "      <td>Head of Analytics</td>\n",
       "      <td>135000.0</td>\n",
       "      <td>United Kingdom</td>\n",
       "      <td>0</td>\n",
       "      <td>0</td>\n",
       "      <td>0</td>\n",
       "      <td>0</td>\n",
       "      <td>0</td>\n",
       "      <td>1</td>\n",
       "      <td>0</td>\n",
       "      <td>0</td>\n",
       "      <td>3</td>\n",
       "      <td>16</td>\n",
       "    </tr>\n",
       "    <tr>\n",
       "      <th>1</th>\n",
       "      <td>London</td>\n",
       "      <td>Aspire Data Recruitment</td>\n",
       "      <td>Hands-on experience on statistical modelling/ ...</td>\n",
       "      <td>Head of Predictive Analytics</td>\n",
       "      <td>211500.0</td>\n",
       "      <td>United Kingdom</td>\n",
       "      <td>0</td>\n",
       "      <td>0</td>\n",
       "      <td>0</td>\n",
       "      <td>0</td>\n",
       "      <td>0</td>\n",
       "      <td>1</td>\n",
       "      <td>0</td>\n",
       "      <td>0</td>\n",
       "      <td>4</td>\n",
       "      <td>16</td>\n",
       "    </tr>\n",
       "    <tr>\n",
       "      <th>2</th>\n",
       "      <td>London</td>\n",
       "      <td>Data Idols</td>\n",
       "      <td>Commercial knowledge of machine learning techn...</td>\n",
       "      <td>Data Scientist</td>\n",
       "      <td>130500.0</td>\n",
       "      <td>United Kingdom</td>\n",
       "      <td>1</td>\n",
       "      <td>0</td>\n",
       "      <td>0</td>\n",
       "      <td>0</td>\n",
       "      <td>0</td>\n",
       "      <td>0</td>\n",
       "      <td>0</td>\n",
       "      <td>0</td>\n",
       "      <td>3</td>\n",
       "      <td>16</td>\n",
       "    </tr>\n",
       "    <tr>\n",
       "      <th>3</th>\n",
       "      <td>London</td>\n",
       "      <td>Tessella Ltd</td>\n",
       "      <td>Data Scientist / Software Developer. Using dat...</td>\n",
       "      <td>Data Scientist / Software Developer</td>\n",
       "      <td>54000.0</td>\n",
       "      <td>United Kingdom</td>\n",
       "      <td>1</td>\n",
       "      <td>0</td>\n",
       "      <td>0</td>\n",
       "      <td>0</td>\n",
       "      <td>0</td>\n",
       "      <td>0</td>\n",
       "      <td>0</td>\n",
       "      <td>0</td>\n",
       "      <td>1</td>\n",
       "      <td>16</td>\n",
       "    </tr>\n",
       "    <tr>\n",
       "      <th>4</th>\n",
       "      <td>London</td>\n",
       "      <td>Tech Mavens</td>\n",
       "      <td>PhD with research, publications related to mac...</td>\n",
       "      <td>Machine Learning researcher</td>\n",
       "      <td>144000.0</td>\n",
       "      <td>United Kingdom</td>\n",
       "      <td>0</td>\n",
       "      <td>0</td>\n",
       "      <td>0</td>\n",
       "      <td>0</td>\n",
       "      <td>0</td>\n",
       "      <td>0</td>\n",
       "      <td>0</td>\n",
       "      <td>0</td>\n",
       "      <td>3</td>\n",
       "      <td>16</td>\n",
       "    </tr>\n",
       "  </tbody>\n",
       "</table>\n",
       "</div>"
      ],
      "text/plain": [
       "     city                  company  \\\n",
       "0  London      La Fosse Associates   \n",
       "1  London  Aspire Data Recruitment   \n",
       "2  London               Data Idols   \n",
       "3  London             Tessella Ltd   \n",
       "4  London              Tech Mavens   \n",
       "\n",
       "                                         description  \\\n",
       "0  Machine learning, data science, big data. Prob...   \n",
       "1  Hands-on experience on statistical modelling/ ...   \n",
       "2  Commercial knowledge of machine learning techn...   \n",
       "3  Data Scientist / Software Developer. Using dat...   \n",
       "4  PhD with research, publications related to mac...   \n",
       "\n",
       "                                 title  cleanedsalary         country  \\\n",
       "0                    Head of Analytics       135000.0  United Kingdom   \n",
       "1         Head of Predictive Analytics       211500.0  United Kingdom   \n",
       "2                       Data Scientist       130500.0  United Kingdom   \n",
       "3  Data Scientist / Software Developer        54000.0  United Kingdom   \n",
       "4          Machine Learning researcher       144000.0  United Kingdom   \n",
       "\n",
       "   data_scientist  data_analyst  business_analyst  data_engineer  intern  \\\n",
       "0               0             0                 0              0       0   \n",
       "1               0             0                 0              0       0   \n",
       "2               1             0                 0              0       0   \n",
       "3               1             0                 0              0       0   \n",
       "4               0             0                 0              0       0   \n",
       "\n",
       "   boss  f500  reviewstar binnedsalary  citycode  \n",
       "0     1     0           0            3        16  \n",
       "1     1     0           0            4        16  \n",
       "2     0     0           0            3        16  \n",
       "3     0     0           0            1        16  \n",
       "4     0     0           0            3        16  "
      ]
     },
     "execution_count": 55,
     "metadata": {},
     "output_type": "execute_result"
    }
   ],
   "source": [
    "cleaner.head()"
   ]
  },
  {
   "cell_type": "markdown",
   "metadata": {},
   "source": [
    "Now it's time to push the dataframe in for prediction. I decided to drop 'country' as it is binary and correlated to location already."
   ]
  },
  {
   "cell_type": "code",
   "execution_count": 205,
   "metadata": {},
   "outputs": [
    {
     "data": {
      "text/html": [
       "<div>\n",
       "<style>\n",
       "    .dataframe thead tr:only-child th {\n",
       "        text-align: right;\n",
       "    }\n",
       "\n",
       "    .dataframe thead th {\n",
       "        text-align: left;\n",
       "    }\n",
       "\n",
       "    .dataframe tbody tr th {\n",
       "        vertical-align: top;\n",
       "    }\n",
       "</style>\n",
       "<table border=\"1\" class=\"dataframe\">\n",
       "  <thead>\n",
       "    <tr style=\"text-align: right;\">\n",
       "      <th></th>\n",
       "      <th>description</th>\n",
       "      <th>data_scientist</th>\n",
       "      <th>data_analyst</th>\n",
       "      <th>business_analyst</th>\n",
       "      <th>data_engineer</th>\n",
       "      <th>intern</th>\n",
       "      <th>boss</th>\n",
       "      <th>f500</th>\n",
       "      <th>reviewstar</th>\n",
       "      <th>citycode</th>\n",
       "    </tr>\n",
       "  </thead>\n",
       "  <tbody>\n",
       "    <tr>\n",
       "      <th>0</th>\n",
       "      <td>Machine learning, data science, big data. Prob...</td>\n",
       "      <td>0</td>\n",
       "      <td>0</td>\n",
       "      <td>0</td>\n",
       "      <td>0</td>\n",
       "      <td>0</td>\n",
       "      <td>1</td>\n",
       "      <td>0</td>\n",
       "      <td>0</td>\n",
       "      <td>16</td>\n",
       "    </tr>\n",
       "    <tr>\n",
       "      <th>1</th>\n",
       "      <td>Hands-on experience on statistical modelling/ ...</td>\n",
       "      <td>0</td>\n",
       "      <td>0</td>\n",
       "      <td>0</td>\n",
       "      <td>0</td>\n",
       "      <td>0</td>\n",
       "      <td>1</td>\n",
       "      <td>0</td>\n",
       "      <td>0</td>\n",
       "      <td>16</td>\n",
       "    </tr>\n",
       "    <tr>\n",
       "      <th>2</th>\n",
       "      <td>Commercial knowledge of machine learning techn...</td>\n",
       "      <td>1</td>\n",
       "      <td>0</td>\n",
       "      <td>0</td>\n",
       "      <td>0</td>\n",
       "      <td>0</td>\n",
       "      <td>0</td>\n",
       "      <td>0</td>\n",
       "      <td>0</td>\n",
       "      <td>16</td>\n",
       "    </tr>\n",
       "    <tr>\n",
       "      <th>3</th>\n",
       "      <td>Data Scientist / Software Developer. Using dat...</td>\n",
       "      <td>1</td>\n",
       "      <td>0</td>\n",
       "      <td>0</td>\n",
       "      <td>0</td>\n",
       "      <td>0</td>\n",
       "      <td>0</td>\n",
       "      <td>0</td>\n",
       "      <td>0</td>\n",
       "      <td>16</td>\n",
       "    </tr>\n",
       "    <tr>\n",
       "      <th>4</th>\n",
       "      <td>PhD with research, publications related to mac...</td>\n",
       "      <td>0</td>\n",
       "      <td>0</td>\n",
       "      <td>0</td>\n",
       "      <td>0</td>\n",
       "      <td>0</td>\n",
       "      <td>0</td>\n",
       "      <td>0</td>\n",
       "      <td>0</td>\n",
       "      <td>16</td>\n",
       "    </tr>\n",
       "  </tbody>\n",
       "</table>\n",
       "</div>"
      ],
      "text/plain": [
       "                                         description  data_scientist  \\\n",
       "0  Machine learning, data science, big data. Prob...               0   \n",
       "1  Hands-on experience on statistical modelling/ ...               0   \n",
       "2  Commercial knowledge of machine learning techn...               1   \n",
       "3  Data Scientist / Software Developer. Using dat...               1   \n",
       "4  PhD with research, publications related to mac...               0   \n",
       "\n",
       "   data_analyst  business_analyst  data_engineer  intern  boss  f500  \\\n",
       "0             0                 0              0       0     1     0   \n",
       "1             0                 0              0       0     1     0   \n",
       "2             0                 0              0       0     0     0   \n",
       "3             0                 0              0       0     0     0   \n",
       "4             0                 0              0       0     0     0   \n",
       "\n",
       "   reviewstar  citycode  \n",
       "0           0        16  \n",
       "1           0        16  \n",
       "2           0        16  \n",
       "3           0        16  \n",
       "4           0        16  "
      ]
     },
     "execution_count": 205,
     "metadata": {},
     "output_type": "execute_result"
    }
   ],
   "source": [
    "X = cleaner.drop(['cleanedsalary','title','company','country','city','binnedsalary'], axis=1)\n",
    "yreg = cleaner['cleanedsalary']\n",
    "ycat = cleaner['binnedsalary']\n",
    "X.head()"
   ]
  },
  {
   "cell_type": "markdown",
   "metadata": {},
   "source": [
    "#### Description cleaning\n",
    "\n",
    "Process: regex to clear punctuation, followed by a stopword remover, porterstemmer and a countvectorizer."
   ]
  },
  {
   "cell_type": "code",
   "execution_count": 206,
   "metadata": {},
   "outputs": [
    {
     "data": {
      "text/plain": [
       "'abc-ed'"
      ]
     },
     "execution_count": 206,
     "metadata": {},
     "output_type": "execute_result"
    }
   ],
   "source": [
    "import re\n",
    "regex = re.compile('[^a-zA-Z\\'-] ')    \n",
    "#First parameter is the replacement, second parameter is your input string\n",
    "regex.sub(' ','abc-ed' )   #testing regex\n"
   ]
  },
  {
   "cell_type": "code",
   "execution_count": 207,
   "metadata": {
    "collapsed": true
   },
   "outputs": [],
   "source": [
    "X['description'] = X['description'].map(lambda x:x.replace(',',' ').replace('....',' ').strip().split(' '))"
   ]
  },
  {
   "cell_type": "code",
   "execution_count": 208,
   "metadata": {
    "collapsed": true
   },
   "outputs": [],
   "source": [
    "def descriptionclean(x):\n",
    "    l = []\n",
    "    for s in x:\n",
    "        l.append((regex.sub(' ',s)).strip(' '))\n",
    "    return l\n",
    "        "
   ]
  },
  {
   "cell_type": "code",
   "execution_count": 209,
   "metadata": {
    "collapsed": true
   },
   "outputs": [],
   "source": [
    "X['description'] = X['description'].map(descriptionclean)#.map(lambda x:' '.join(x).strip())"
   ]
  },
  {
   "cell_type": "code",
   "execution_count": 210,
   "metadata": {},
   "outputs": [
    {
     "name": "stdout",
     "output_type": "stream",
     "text": [
      "3136\n",
      "3138\n"
     ]
    }
   ],
   "source": [
    "from nltk.corpus import stopwords\n",
    "nltk_stops = stopwords.words()\n",
    "print len(nltk_stops)\n",
    "nltk_stops.append('read')\n",
    "nltk_stops.append('more')\n",
    "print len(nltk_stops)"
   ]
  },
  {
   "cell_type": "code",
   "execution_count": 211,
   "metadata": {
    "collapsed": true
   },
   "outputs": [],
   "source": [
    "def removestop(x):\n",
    "    return [word for word in x if word not in nltk_stops]"
   ]
  },
  {
   "cell_type": "code",
   "execution_count": 212,
   "metadata": {
    "collapsed": true
   },
   "outputs": [],
   "source": [
    "X['description'] = X['description'].map(removestop)"
   ]
  },
  {
   "cell_type": "code",
   "execution_count": 213,
   "metadata": {
    "scrolled": true
   },
   "outputs": [
    {
     "data": {
      "text/plain": [
       "0       [machin, learn, data, scienc, big, probabl, wo...\n",
       "1       [experi, statist, machin, learn, Be, respons, ...\n",
       "2       [commerci, knowledg, machin, learn, our, londo...\n",
       "3       [data, scientist, softwar, use, data, scienc, ...\n",
       "4       [phd, research, public, relat, machin, learn, ...\n",
       "5       [send, CV, call, confidenti, discuss, nlp, res...\n",
       "6       [ensur, deliveri, complet, data, load, custom,...\n",
       "7       [data, scientist, behaviour, analysi, recommen...\n",
       "8       [data, scientist, experi, would, highli, thi, ...\n",
       "10      [senior, data, scientist, If, interest, data, ...\n",
       "11      [data, scientist, R, python, numpi, scipi, mat...\n",
       "12      [data, scientist, lab, strong, background, sta...\n",
       "13      [head, data, scienc, lead, data, scientist, da...\n",
       "14      [build, team, world, class, data, deploy, mach...\n",
       "15      [thi, applic, broad, rang, data, scienc, techn...\n",
       "16      [R, python, sql, spark, sa, hadoop, scala, mon...\n",
       "17      [thi, well, respect, custom, analyt, consult, ...\n",
       "18      [with, strong, academ, background, data, scien...\n",
       "19      [insight, opinion, use, data, analyt, creativ,...\n",
       "20      [build, team, world, class, data, deploy, mach...\n",
       "21      [A, global, entertain, compani, look, senior, ...\n",
       "22      [experi, statist, machin, learn, develop, depl...\n",
       "23      [our, research, success, stori, land, us, writ...\n",
       "24      [take, ownership, data, model, work, retail, t...\n",
       "25      [experi, machin, learn, artifici, strong, adva...\n",
       "26      [data, scientist, machin, learn, natur, langua...\n",
       "27      [data, scienc, machin, learn, AI, neural, netw...\n",
       "28      [data, scientist, An, opportun, join, machin, ...\n",
       "29      [senior, data, As, data, scientist, develop, p...\n",
       "30      [machin, learn, python, R, spark, An, understa...\n",
       "                              ...                        \n",
       "2830    [may, contribut, special, report, regard, evid...\n",
       "2831    [survey, data, analysi, submiss, data, mainten...\n",
       "2832    [possess, strong, analyt, data, manag, prepar,...\n",
       "2833    [account, financ, market, strong, data, gather...\n",
       "2834    [analyz, relev, technic, issu, data, structur,...\n",
       "2835    [assist, colleagu, data, report, regularli, ve...\n",
       "2836    [previou, experi, work, data, warehous, system...\n",
       "2837    [and, dissemin, data, requir, assign, assist, ...\n",
       "2838    [year, experi, data, mine, etl, data, warehous...\n",
       "2839    [web, analyt, analyst, data, UI, tableau, data...\n",
       "2840    [consum, insight, analyst, assist, creat, impr...\n",
       "2841    [collect, machin, vibrat, data, type, ship, ce...\n",
       "2842    [behavior, analyst, certif, board, regist, beh...\n",
       "2843    [respons, mainten, repair, troubleshoot, softw...\n",
       "2844    [provid, data, analysi, stage, support, market...\n",
       "2845    [respons, mainten, repair, troubleshoot, softw...\n",
       "2846    [strong, data, analyt, dashboard, some, data, ...\n",
       "2847    [thi, posit, supervis, medic, technologist, me...\n",
       "2848    [graph, data, collect, data, reduct, acquisit,...\n",
       "2849    [ongo, data, Nd, dedic, We, small, compani, de...\n",
       "2850    [monthli, financi, activ, includ, key, perform...\n",
       "2851    [experi, data, warehous, advanc, analyt, big, ...\n",
       "2852    [senior, product, maintain, busi, intellig, sy...\n",
       "2853    [As, softwar, develop, project, engin, develop...\n",
       "2854    [softwar, engin, sale, autom, platform, power,...\n",
       "2855    [the, track, engin, possess, deep, sens, curio...\n",
       "2856    [machin, supplier, purchas, pma, machin, integ...\n",
       "2857    [strong, written, oral, commun, skill, knowled...\n",
       "2858    [demonstr, rapid, learn, aptitud, problem, sol...\n",
       "2859    [qualiti, data, A, colleg, degre, electron, en...\n",
       "Name: description, Length: 2803, dtype: object"
      ]
     },
     "execution_count": 213,
     "metadata": {},
     "output_type": "execute_result"
    }
   ],
   "source": [
    "from nltk.stem import PorterStemmer\n",
    "stemmer = PorterStemmer()\n",
    "X['description'] = X['description'].map(lambda x:[stemmer.stem(word) for word in x])\n",
    "X['description'].map(lambda x:[word for word in x if word.isalpha()])"
   ]
  },
  {
   "cell_type": "code",
   "execution_count": 214,
   "metadata": {
    "collapsed": true
   },
   "outputs": [],
   "source": [
    "X['description'] = X['description'].map(lambda x: \" \".join(x).strip())"
   ]
  },
  {
   "cell_type": "code",
   "execution_count": 215,
   "metadata": {
    "collapsed": true
   },
   "outputs": [],
   "source": [
    "from sklearn.model_selection import train_test_split\n",
    "X_train, X_test, y_trainr, y_testr = train_test_split(X, yreg, test_size=0.33, random_state=42)"
   ]
  },
  {
   "cell_type": "code",
   "execution_count": 216,
   "metadata": {
    "collapsed": true
   },
   "outputs": [],
   "source": [
    "X_train, X_test, y_trainc, y_testc = train_test_split(X, ycat, test_size=0.33, random_state=42)"
   ]
  },
  {
   "cell_type": "code",
   "execution_count": 217,
   "metadata": {},
   "outputs": [
    {
     "data": {
      "text/plain": [
       "<1878x94 sparse matrix of type '<type 'numpy.int64'>'\n",
       "\twith 12678 stored elements in Compressed Sparse Row format>"
      ]
     },
     "execution_count": 217,
     "metadata": {},
     "output_type": "execute_result"
    }
   ],
   "source": [
    "from sklearn.feature_extraction.text import CountVectorizer\n",
    "cvt      =  CountVectorizer(strip_accents='unicode', ngram_range=(1,2), stop_words = 'english', min_df=50)\n",
    "X_all    =  cvt.fit_transform(X_train['description'])\n",
    "columns  =  np.array(cvt.get_feature_names())          # ndarray (for indexing below)\n",
    "\n",
    "# note this is a large sparse matrix. \n",
    "#    - rows are tweets, columns are words \n",
    "X_all"
   ]
  },
  {
   "cell_type": "code",
   "execution_count": 218,
   "metadata": {},
   "outputs": [
    {
     "name": "stdout",
     "output_type": "stream",
     "text": [
      "(1878, 94)\n",
      "Requires 176532 ints to do a .toarray()!\n"
     ]
    }
   ],
   "source": [
    "print X_all.shape\n",
    "print \"Requires {} ints to do a .toarray()!\".format(X_all.shape[0] * X_all.shape[1])\n"
   ]
  },
  {
   "cell_type": "code",
   "execution_count": 219,
   "metadata": {},
   "outputs": [
    {
     "data": {
      "text/plain": [
       "data              2378\n",
       "analyst            664\n",
       "analyt             629\n",
       "learn              496\n",
       "machin             455\n",
       "engin              417\n",
       "experi             361\n",
       "busi               336\n",
       "machin learn       333\n",
       "work               289\n",
       "develop            285\n",
       "scientist          284\n",
       "team               254\n",
       "data scientist     243\n",
       "intellig           232\n",
       "manag              208\n",
       "look               189\n",
       "use                187\n",
       "data analyt        180\n",
       "senior             176\n",
       "dtype: int64"
      ]
     },
     "execution_count": 219,
     "metadata": {},
     "output_type": "execute_result"
    }
   ],
   "source": [
    "def get_freq_words(sparse_counts, columns):\n",
    "    # X_all is a sparse matrix, so sum() returns a 'matrix' datatype ...\n",
    "    #   which we then convert into a 1-D ndarray for sorting\n",
    "    word_counts = np.asarray(X_all.sum(axis=0)).reshape(-1)\n",
    "\n",
    "    # argsort() returns smallest first, so we reverse the result\n",
    "    largest_count_indices = word_counts.argsort()[::-1]\n",
    "\n",
    "    freq_words = pd.Series(word_counts[largest_count_indices], \n",
    "                           index=columns[largest_count_indices])\n",
    "\n",
    "    return freq_words\n",
    "\n",
    "\n",
    "freq_words = get_freq_words(X_all, columns)\n",
    "freq_words[:20]"
   ]
  },
  {
   "cell_type": "code",
   "execution_count": 220,
   "metadata": {
    "collapsed": true
   },
   "outputs": [],
   "source": [
    "docs = pd.DataFrame(X_all.todense(), columns=columns)\n",
    "X_trainfull = pd.concat([docs,X_train.drop('description',axis=1).reset_index()], axis=1, ignore_index=True)"
   ]
  },
  {
   "cell_type": "code",
   "execution_count": 221,
   "metadata": {},
   "outputs": [
    {
     "data": {
      "text/html": [
       "<div>\n",
       "<style>\n",
       "    .dataframe thead tr:only-child th {\n",
       "        text-align: right;\n",
       "    }\n",
       "\n",
       "    .dataframe thead th {\n",
       "        text-align: left;\n",
       "    }\n",
       "\n",
       "    .dataframe tbody tr th {\n",
       "        vertical-align: top;\n",
       "    }\n",
       "</style>\n",
       "<table border=\"1\" class=\"dataframe\">\n",
       "  <thead>\n",
       "    <tr style=\"text-align: right;\">\n",
       "      <th></th>\n",
       "      <th>abil</th>\n",
       "      <th>advanc</th>\n",
       "      <th>algorithm</th>\n",
       "      <th>analys</th>\n",
       "      <th>analysi</th>\n",
       "      <th>analyst</th>\n",
       "      <th>analyt</th>\n",
       "      <th>analyt data</th>\n",
       "      <th>analytics</th>\n",
       "      <th>analyz</th>\n",
       "      <th>...</th>\n",
       "      <th>technic</th>\n",
       "      <th>technolog</th>\n",
       "      <th>test</th>\n",
       "      <th>thi</th>\n",
       "      <th>tool</th>\n",
       "      <th>understand</th>\n",
       "      <th>use</th>\n",
       "      <th>web</th>\n",
       "      <th>work</th>\n",
       "      <th>year</th>\n",
       "    </tr>\n",
       "  </thead>\n",
       "  <tbody>\n",
       "    <tr>\n",
       "      <th>0</th>\n",
       "      <td>0</td>\n",
       "      <td>0</td>\n",
       "      <td>0</td>\n",
       "      <td>0</td>\n",
       "      <td>0</td>\n",
       "      <td>0</td>\n",
       "      <td>1</td>\n",
       "      <td>0</td>\n",
       "      <td>0</td>\n",
       "      <td>0</td>\n",
       "      <td>...</td>\n",
       "      <td>0</td>\n",
       "      <td>0</td>\n",
       "      <td>0</td>\n",
       "      <td>0</td>\n",
       "      <td>0</td>\n",
       "      <td>0</td>\n",
       "      <td>0</td>\n",
       "      <td>0</td>\n",
       "      <td>1</td>\n",
       "      <td>0</td>\n",
       "    </tr>\n",
       "    <tr>\n",
       "      <th>1</th>\n",
       "      <td>0</td>\n",
       "      <td>0</td>\n",
       "      <td>0</td>\n",
       "      <td>0</td>\n",
       "      <td>0</td>\n",
       "      <td>0</td>\n",
       "      <td>0</td>\n",
       "      <td>0</td>\n",
       "      <td>0</td>\n",
       "      <td>0</td>\n",
       "      <td>...</td>\n",
       "      <td>0</td>\n",
       "      <td>0</td>\n",
       "      <td>0</td>\n",
       "      <td>0</td>\n",
       "      <td>0</td>\n",
       "      <td>0</td>\n",
       "      <td>0</td>\n",
       "      <td>0</td>\n",
       "      <td>0</td>\n",
       "      <td>0</td>\n",
       "    </tr>\n",
       "    <tr>\n",
       "      <th>2</th>\n",
       "      <td>0</td>\n",
       "      <td>0</td>\n",
       "      <td>0</td>\n",
       "      <td>0</td>\n",
       "      <td>0</td>\n",
       "      <td>0</td>\n",
       "      <td>1</td>\n",
       "      <td>1</td>\n",
       "      <td>0</td>\n",
       "      <td>1</td>\n",
       "      <td>...</td>\n",
       "      <td>0</td>\n",
       "      <td>0</td>\n",
       "      <td>0</td>\n",
       "      <td>0</td>\n",
       "      <td>0</td>\n",
       "      <td>0</td>\n",
       "      <td>0</td>\n",
       "      <td>0</td>\n",
       "      <td>0</td>\n",
       "      <td>0</td>\n",
       "    </tr>\n",
       "    <tr>\n",
       "      <th>3</th>\n",
       "      <td>0</td>\n",
       "      <td>0</td>\n",
       "      <td>0</td>\n",
       "      <td>0</td>\n",
       "      <td>0</td>\n",
       "      <td>0</td>\n",
       "      <td>0</td>\n",
       "      <td>0</td>\n",
       "      <td>0</td>\n",
       "      <td>0</td>\n",
       "      <td>...</td>\n",
       "      <td>0</td>\n",
       "      <td>0</td>\n",
       "      <td>0</td>\n",
       "      <td>0</td>\n",
       "      <td>0</td>\n",
       "      <td>0</td>\n",
       "      <td>0</td>\n",
       "      <td>0</td>\n",
       "      <td>1</td>\n",
       "      <td>0</td>\n",
       "    </tr>\n",
       "    <tr>\n",
       "      <th>4</th>\n",
       "      <td>0</td>\n",
       "      <td>0</td>\n",
       "      <td>0</td>\n",
       "      <td>0</td>\n",
       "      <td>0</td>\n",
       "      <td>0</td>\n",
       "      <td>0</td>\n",
       "      <td>0</td>\n",
       "      <td>0</td>\n",
       "      <td>0</td>\n",
       "      <td>...</td>\n",
       "      <td>0</td>\n",
       "      <td>0</td>\n",
       "      <td>0</td>\n",
       "      <td>0</td>\n",
       "      <td>0</td>\n",
       "      <td>0</td>\n",
       "      <td>0</td>\n",
       "      <td>0</td>\n",
       "      <td>0</td>\n",
       "      <td>0</td>\n",
       "    </tr>\n",
       "  </tbody>\n",
       "</table>\n",
       "<p>5 rows × 94 columns</p>\n",
       "</div>"
      ],
      "text/plain": [
       "   abil  advanc  algorithm  analys  analysi  analyst  analyt  analyt data  \\\n",
       "0     0       0          0       0        0        0       1            0   \n",
       "1     0       0          0       0        0        0       0            0   \n",
       "2     0       0          0       0        0        0       1            1   \n",
       "3     0       0          0       0        0        0       0            0   \n",
       "4     0       0          0       0        0        0       0            0   \n",
       "\n",
       "   analytics  analyz  ...   technic  technolog  test  thi  tool  understand  \\\n",
       "0          0       0  ...         0          0     0    0     0           0   \n",
       "1          0       0  ...         0          0     0    0     0           0   \n",
       "2          0       1  ...         0          0     0    0     0           0   \n",
       "3          0       0  ...         0          0     0    0     0           0   \n",
       "4          0       0  ...         0          0     0    0     0           0   \n",
       "\n",
       "   use  web  work  year  \n",
       "0    0    0     1     0  \n",
       "1    0    0     0     0  \n",
       "2    0    0     0     0  \n",
       "3    0    0     1     0  \n",
       "4    0    0     0     0  \n",
       "\n",
       "[5 rows x 94 columns]"
      ]
     },
     "execution_count": 221,
     "metadata": {},
     "output_type": "execute_result"
    }
   ],
   "source": [
    "docs.head()"
   ]
  },
  {
   "cell_type": "code",
   "execution_count": 222,
   "metadata": {
    "collapsed": true
   },
   "outputs": [],
   "source": [
    "from sklearn.base import BaseEstimator, TransformerMixin\n",
    "from sklearn.pipeline import Pipeline\n",
    "from sklearn.pipeline import FeatureUnion\n"
   ]
  },
  {
   "cell_type": "code",
   "execution_count": 151,
   "metadata": {},
   "outputs": [],
   "source": [
    "class ItemSelector(BaseEstimator, TransformerMixin):\n",
    "\n",
    "    def __init__(self, column):\n",
    "        self.column = column\n",
    "\n",
    "    def fit(self, X, y=None):\n",
    "        return self\n",
    "\n",
    "    def transform(self, X, y=None):\n",
    "        return X[self.column]\n",
    "\n",
    "class RemoveDescription(BaseEstimator, TransformerMixin):\n",
    "    def __init__(self):\n",
    "        pass\n",
    "\n",
    "    def transform(self, df, y=None):\n",
    "        \"\"\"The workhorse of this feature extractor\"\"\"\n",
    "        return df.drop('description', axis=1).reset_index(drop=True)\n",
    "\n",
    "    def fit(self, df, y=None):\n",
    "        \"\"\"Returns `self` unless something different happens in train and test\"\"\"\n",
    "        return self\n",
    "    "
   ]
  },
  {
   "cell_type": "code",
   "execution_count": 152,
   "metadata": {
    "collapsed": true
   },
   "outputs": [],
   "source": [
    "from sklearn.model_selection import GridSearchCV\n",
    "from sklearn.ensemble import (ExtraTreesClassifier, RandomForestClassifier, \n",
    "                              AdaBoostClassifier, GradientBoostingClassifier)\n",
    "from sklearn.svm import SVC\n",
    "from sklearn.metrics import classification_report, confusion_matrix, accuracy_score\n",
    "\n"
   ]
  },
  {
   "cell_type": "code",
   "execution_count": 153,
   "metadata": {},
   "outputs": [
    {
     "data": {
      "text/plain": [
       "<1878x103 sparse matrix of type '<type 'numpy.int64'>'\n",
       "\twith 16392 stored elements in Compressed Sparse Row format>"
      ]
     },
     "execution_count": 153,
     "metadata": {},
     "output_type": "execute_result"
    }
   ],
   "source": [
    "tester = Pipeline([\n",
    "    (\"union\", FeatureUnion(\n",
    "        transformer_list=[\n",
    "            (\"description\", Pipeline([\n",
    "                (\"selector\", ItemSelector(column=\"description\")),\n",
    "                (\"countvec\", CountVectorizer(strip_accents='unicode', ngram_range=(1,2),\n",
    "                                             stop_words = 'english', min_df=50))\n",
    "            ])), (\"removedes\", RemoveDescription())\n",
    "        ]))])\n",
    "\n",
    "tester.fit_transform(X_train)"
   ]
  },
  {
   "cell_type": "markdown",
   "metadata": {},
   "source": [
    "### Random Forest"
   ]
  },
  {
   "cell_type": "code",
   "execution_count": 230,
   "metadata": {},
   "outputs": [
    {
     "name": "stdout",
     "output_type": "stream",
     "text": [
      "             precision    recall  f1-score   support\n",
      "\n",
      "          1       0.60      0.52      0.56       178\n",
      "          2       0.47      0.57      0.51       283\n",
      "          3       0.49      0.50      0.49       283\n",
      "          4       0.65      0.50      0.57       181\n",
      "\n",
      "avg / total       0.54      0.52      0.53       925\n",
      "\n"
     ]
    }
   ],
   "source": [
    "\n",
    "pipeline = Pipeline([\n",
    "    (\"union\", FeatureUnion(\n",
    "        transformer_list=[\n",
    "            (\"description\", Pipeline([\n",
    "                (\"selector\", ItemSelector(column=\"description\")),\n",
    "                (\"countvec\", CountVectorizer(strip_accents='unicode', ngram_range=(1,2),\n",
    "                                             stop_words = 'english', min_df=50))\n",
    "            ])), (\"removedes\", RemoveDescription())\n",
    "        ])),\n",
    "    (\"classifier\", RandomForestClassifier(n_jobs=-1))\n",
    "])\n",
    "\n",
    "gs_params = {\n",
    "    'classifier__n_estimators':[10,30,50,100],\n",
    "    'classifier__max_features':['sqrt','log2'],\n",
    "    'classifier__bootstrap' : [True, False]\n",
    "}\n",
    "#model = pipeline.fit(X_train, y_trainc.tolist())\n",
    "cv = GridSearchCV(pipeline, gs_params, cv=5)\n",
    "cv.fit(X_train, y_trainc.tolist())\n",
    "#predictions = model.predict(X_test)\n",
    "#cv.score(X_test, y_testc)\n",
    "predictions = cv.predict(X_test)\n",
    "print classification_report(y_testc.tolist(), predictions)"
   ]
  },
  {
   "cell_type": "markdown",
   "metadata": {},
   "source": [
    "Classification report for a random forest classifier. It's not too bad considering that the baseline is 0.301."
   ]
  },
  {
   "cell_type": "code",
   "execution_count": 158,
   "metadata": {},
   "outputs": [
    {
     "name": "stdout",
     "output_type": "stream",
     "text": [
      "0.309311452016\n"
     ]
    }
   ],
   "source": [
    "baseline = max(ycat.value_counts().values)/float(len(ycat))\n",
    "print baseline"
   ]
  },
  {
   "cell_type": "code",
   "execution_count": 155,
   "metadata": {
    "scrolled": true
   },
   "outputs": [
    {
     "data": {
      "text/plain": [
       "(103,)"
      ]
     },
     "execution_count": 155,
     "metadata": {},
     "output_type": "execute_result"
    }
   ],
   "source": [
    "be = cv.best_estimator_ \n",
    "be.steps[1][1].feature_importances_.shape"
   ]
  },
  {
   "cell_type": "code",
   "execution_count": 157,
   "metadata": {},
   "outputs": [
    {
     "data": {
      "text/html": [
       "<div>\n",
       "<style>\n",
       "    .dataframe thead tr:only-child th {\n",
       "        text-align: right;\n",
       "    }\n",
       "\n",
       "    .dataframe thead th {\n",
       "        text-align: left;\n",
       "    }\n",
       "\n",
       "    .dataframe tbody tr th {\n",
       "        vertical-align: top;\n",
       "    }\n",
       "</style>\n",
       "<table border=\"1\" class=\"dataframe\">\n",
       "  <thead>\n",
       "    <tr style=\"text-align: right;\">\n",
       "      <th></th>\n",
       "      <th>feature</th>\n",
       "      <th>importance</th>\n",
       "    </tr>\n",
       "  </thead>\n",
       "  <tbody>\n",
       "    <tr>\n",
       "      <th>102</th>\n",
       "      <td>citycode</td>\n",
       "      <td>0.090246</td>\n",
       "    </tr>\n",
       "    <tr>\n",
       "      <th>22</th>\n",
       "      <td>data</td>\n",
       "      <td>0.042272</td>\n",
       "    </tr>\n",
       "    <tr>\n",
       "      <th>99</th>\n",
       "      <td>boss</td>\n",
       "      <td>0.024670</td>\n",
       "    </tr>\n",
       "    <tr>\n",
       "      <th>101</th>\n",
       "      <td>reviewstar</td>\n",
       "      <td>0.024618</td>\n",
       "    </tr>\n",
       "    <tr>\n",
       "      <th>5</th>\n",
       "      <td>analyst</td>\n",
       "      <td>0.023606</td>\n",
       "    </tr>\n",
       "    <tr>\n",
       "      <th>6</th>\n",
       "      <td>analyt</td>\n",
       "      <td>0.023207</td>\n",
       "    </tr>\n",
       "    <tr>\n",
       "      <th>34</th>\n",
       "      <td>experi</td>\n",
       "      <td>0.017793</td>\n",
       "    </tr>\n",
       "    <tr>\n",
       "      <th>45</th>\n",
       "      <td>learn</td>\n",
       "      <td>0.017249</td>\n",
       "    </tr>\n",
       "    <tr>\n",
       "      <th>92</th>\n",
       "      <td>work</td>\n",
       "      <td>0.016843</td>\n",
       "    </tr>\n",
       "    <tr>\n",
       "      <th>31</th>\n",
       "      <td>engin</td>\n",
       "      <td>0.016340</td>\n",
       "    </tr>\n",
       "    <tr>\n",
       "      <th>48</th>\n",
       "      <td>machin</td>\n",
       "      <td>0.016099</td>\n",
       "    </tr>\n",
       "    <tr>\n",
       "      <th>30</th>\n",
       "      <td>develop</td>\n",
       "      <td>0.015768</td>\n",
       "    </tr>\n",
       "    <tr>\n",
       "      <th>14</th>\n",
       "      <td>busi</td>\n",
       "      <td>0.014035</td>\n",
       "    </tr>\n",
       "    <tr>\n",
       "      <th>50</th>\n",
       "      <td>manag</td>\n",
       "      <td>0.013854</td>\n",
       "    </tr>\n",
       "    <tr>\n",
       "      <th>83</th>\n",
       "      <td>team</td>\n",
       "      <td>0.012772</td>\n",
       "    </tr>\n",
       "    <tr>\n",
       "      <th>40</th>\n",
       "      <td>intellig</td>\n",
       "      <td>0.012488</td>\n",
       "    </tr>\n",
       "    <tr>\n",
       "      <th>90</th>\n",
       "      <td>use</td>\n",
       "      <td>0.012253</td>\n",
       "    </tr>\n",
       "    <tr>\n",
       "      <th>25</th>\n",
       "      <td>data analyt</td>\n",
       "      <td>0.012038</td>\n",
       "    </tr>\n",
       "    <tr>\n",
       "      <th>70</th>\n",
       "      <td>scientist</td>\n",
       "      <td>0.011492</td>\n",
       "    </tr>\n",
       "    <tr>\n",
       "      <th>49</th>\n",
       "      <td>machin learn</td>\n",
       "      <td>0.011083</td>\n",
       "    </tr>\n",
       "  </tbody>\n",
       "</table>\n",
       "</div>"
      ],
      "text/plain": [
       "          feature  importance\n",
       "102      citycode    0.090246\n",
       "22           data    0.042272\n",
       "99           boss    0.024670\n",
       "101    reviewstar    0.024618\n",
       "5         analyst    0.023606\n",
       "6          analyt    0.023207\n",
       "34         experi    0.017793\n",
       "45          learn    0.017249\n",
       "92           work    0.016843\n",
       "31          engin    0.016340\n",
       "48         machin    0.016099\n",
       "30        develop    0.015768\n",
       "14           busi    0.014035\n",
       "50          manag    0.013854\n",
       "83           team    0.012772\n",
       "40       intellig    0.012488\n",
       "90            use    0.012253\n",
       "25    data analyt    0.012038\n",
       "70      scientist    0.011492\n",
       "49   machin learn    0.011083"
      ]
     },
     "execution_count": 157,
     "metadata": {},
     "output_type": "execute_result"
    }
   ],
   "source": [
    "be = cv.best_estimator_ \n",
    "\n",
    "fi = pd.DataFrame({\n",
    "        'feature':docs.columns.append(X_train.drop('description',axis=1).columns),\n",
    "        'importance':be.steps[1][1].feature_importances_\n",
    "    })\n",
    "\n",
    "fi.sort_values('importance', ascending=False, inplace=True)\n",
    "fi[:20]   # Feature importance"
   ]
  },
  {
   "cell_type": "markdown",
   "metadata": {},
   "source": [
    "Nothing too surprising here. Usual suspects (city, data, boss)"
   ]
  },
  {
   "cell_type": "markdown",
   "metadata": {},
   "source": [
    "### Using SVD"
   ]
  },
  {
   "cell_type": "code",
   "execution_count": 179,
   "metadata": {
    "collapsed": true
   },
   "outputs": [],
   "source": [
    "from sklearn.decomposition import TruncatedSVD"
   ]
  },
  {
   "cell_type": "code",
   "execution_count": 180,
   "metadata": {},
   "outputs": [
    {
     "name": "stdout",
     "output_type": "stream",
     "text": [
      "             precision    recall  f1-score   support\n",
      "\n",
      "          1       0.51      0.46      0.48       178\n",
      "          2       0.47      0.55      0.51       283\n",
      "          3       0.46      0.45      0.45       283\n",
      "          4       0.50      0.44      0.47       181\n",
      "\n",
      "avg / total       0.48      0.48      0.48       925\n",
      "\n"
     ]
    }
   ],
   "source": [
    "\n",
    "pipeline = Pipeline([\n",
    "    (\"union\", FeatureUnion(\n",
    "        transformer_list=[\n",
    "            (\"description\", Pipeline([\n",
    "                (\"selector\", ItemSelector(column=\"description\")),\n",
    "                (\"countvec\", CountVectorizer(strip_accents='unicode', ngram_range=(1,2),\n",
    "                                             stop_words = 'english', min_df=50))\n",
    "            ])), (\"removedes\", RemoveDescription())\n",
    "        ])),('SVD',TruncatedSVD()),\n",
    "    (\"classifier\", RandomForestClassifier(n_jobs=-1))\n",
    "])\n",
    "\n",
    "gs_params = {\n",
    "    'SVD__n_components':[5,10,15],\n",
    "    'classifier__n_estimators':[10,30,50,100],\n",
    "    'classifier__max_features':['sqrt','log2'],\n",
    "    'classifier__bootstrap' : [True, False]\n",
    "}\n",
    "#model = pipeline.fit(X_train, y_trainc.tolist())\n",
    "cv = GridSearchCV(pipeline, gs_params, cv=5)\n",
    "cv.fit(X_train, y_trainc.tolist())\n",
    "#predictions = model.predict(X_test)\n",
    "#cv.score(X_test, y_testc)\n",
    "predictions = cv.predict(X_test)\n",
    "print classification_report(y_testc.tolist(), predictions)"
   ]
  },
  {
   "cell_type": "markdown",
   "metadata": {},
   "source": [
    "SVD makes it worse...."
   ]
  },
  {
   "cell_type": "code",
   "execution_count": null,
   "metadata": {
    "collapsed": true
   },
   "outputs": [],
   "source": []
  },
  {
   "cell_type": "code",
   "execution_count": null,
   "metadata": {
    "collapsed": true
   },
   "outputs": [],
   "source": []
  },
  {
   "cell_type": "code",
   "execution_count": null,
   "metadata": {
    "collapsed": true
   },
   "outputs": [],
   "source": []
  },
  {
   "cell_type": "code",
   "execution_count": 223,
   "metadata": {
    "collapsed": true
   },
   "outputs": [],
   "source": [
    "class DenseTransformer(BaseEstimator,TransformerMixin):\n",
    "    \"\"\" Transformer to convert a sparse to a dense matrix\"\"\"\n",
    "    def __init__(self):\n",
    "        pass\n",
    "\n",
    "    def transform(self, X, y=None):\n",
    "        return X.todense()\n",
    "\n",
    "    def fit(self, X, y=None):\n",
    "        return self"
   ]
  },
  {
   "cell_type": "markdown",
   "metadata": {},
   "source": [
    "### GradientBoost"
   ]
  },
  {
   "cell_type": "code",
   "execution_count": 229,
   "metadata": {},
   "outputs": [
    {
     "name": "stdout",
     "output_type": "stream",
     "text": [
      "             precision    recall  f1-score   support\n",
      "\n",
      "          1       0.62      0.49      0.55       178\n",
      "          2       0.51      0.59      0.55       283\n",
      "          3       0.49      0.53      0.51       283\n",
      "          4       0.60      0.50      0.55       181\n",
      "\n",
      "avg / total       0.54      0.54      0.54       925\n",
      "\n"
     ]
    }
   ],
   "source": [
    "pipeline2 = Pipeline([\n",
    "    (\"union\", FeatureUnion(\n",
    "        transformer_list=[\n",
    "            (\"description\", Pipeline([\n",
    "                (\"selector\", ItemSelector(column=\"description\")),\n",
    "                (\"countvec\", CountVectorizer(strip_accents='unicode', ngram_range=(1,2),\n",
    "                                             stop_words = 'english', min_df=50)),(\"todense\", DenseTransformer())\n",
    "            ])), (\"removedes\", RemoveDescription())\n",
    "        ])),\n",
    "    (\"classifier\", GradientBoostingClassifier())    #gradient boost\n",
    "])\n",
    "\n",
    "gs_params = {\n",
    "    'classifier__n_estimators':[30,50,100],\n",
    "    'classifier__learning_rate':[0.05,0.1],\n",
    "    'classifier__max_depth' : [3,5,7]    \n",
    "}\n",
    "\n",
    "#model = pipeline.fit(X_train, y_trainc.tolist())\n",
    "cv2 = GridSearchCV(pipeline2, gs_params, cv=5)\n",
    "cv2.fit(X_train, y_trainc.tolist())\n",
    "#predictions = model.predict(X_test)\n",
    "#cv.score(X_test, y_testc)\n",
    "predictions2 = cv2.predict(X_test)\n",
    "print classification_report(y_testc.tolist(), predictions2)"
   ]
  },
  {
   "cell_type": "markdown",
   "metadata": {},
   "source": [
    "Gradient boost performs marginally better than random forests"
   ]
  },
  {
   "cell_type": "markdown",
   "metadata": {},
   "source": [
    "### Adaboost"
   ]
  },
  {
   "cell_type": "code",
   "execution_count": 228,
   "metadata": {},
   "outputs": [
    {
     "name": "stdout",
     "output_type": "stream",
     "text": [
      "             precision    recall  f1-score   support\n",
      "\n",
      "          1       0.82      0.08      0.14       178\n",
      "          2       0.38      0.68      0.48       283\n",
      "          3       0.39      0.48      0.43       283\n",
      "          4       0.62      0.16      0.25       181\n",
      "\n",
      "avg / total       0.51      0.40      0.36       925\n",
      "\n"
     ]
    }
   ],
   "source": [
    "from sklearn.ensemble import AdaBoostClassifier\n",
    "pipeline3 = Pipeline([\n",
    "    (\"union\", FeatureUnion(\n",
    "        transformer_list=[\n",
    "            (\"description\", Pipeline([\n",
    "                (\"selector\", ItemSelector(column=\"description\")),\n",
    "                (\"countvec\", CountVectorizer(strip_accents='unicode', ngram_range=(1,2),\n",
    "                                             stop_words = 'english', min_df=50)),(\"todense\", DenseTransformer())\n",
    "            ])), (\"removedes\", RemoveDescription())\n",
    "        ])),\n",
    "    (\"classifier\", AdaBoostClassifier())\n",
    "])\n",
    "\n",
    "gs_params = {\n",
    "    'classifier__n_estimators':[30,50,100],\n",
    "    'classifier__learning_rate':[0.01,0.05,0.1],   \n",
    "}\n",
    "\n",
    "#model = pipeline.fit(X_train, y_trainc.tolist())\n",
    "cv3 = GridSearchCV(pipeline3, gs_params, cv=5)\n",
    "cv3.fit(X_train, y_trainc.tolist())\n",
    "#predictions = model.predict(X_test)\n",
    "#cv.score(X_test, y_testc)\n",
    "predictions3 = cv3.predict(X_test)\n",
    "print classification_report(y_testc.tolist(), predictions3)"
   ]
  },
  {
   "cell_type": "code",
   "execution_count": null,
   "metadata": {
    "collapsed": true
   },
   "outputs": [],
   "source": [
    "Doing Adaboost on Randomforest."
   ]
  },
  {
   "cell_type": "markdown",
   "metadata": {},
   "source": [
    "Adaboost did not do too well.... "
   ]
  },
  {
   "cell_type": "markdown",
   "metadata": {},
   "source": [
    "#### Trying a regressor"
   ]
  },
  {
   "cell_type": "code",
   "execution_count": 159,
   "metadata": {},
   "outputs": [
    {
     "data": {
      "text/plain": [
       "0.46493156312002482"
      ]
     },
     "execution_count": 159,
     "metadata": {},
     "output_type": "execute_result"
    }
   ],
   "source": [
    "from sklearn.ensemble import RandomForestRegressor\n",
    "pipeliner = Pipeline([\n",
    "    (\"union\", FeatureUnion(\n",
    "        transformer_list=[\n",
    "            (\"description\", Pipeline([\n",
    "                (\"selector\", ItemSelector(column=\"description\")),\n",
    "                (\"countvec\", CountVectorizer(strip_accents='unicode', ngram_range=(1,2),\n",
    "                                             stop_words = 'english', min_df=50))\n",
    "            ])), (\"removedes\", RemoveDescription())\n",
    "        ])),\n",
    "    (\"regressor\", RandomForestRegressor(n_jobs=-1))\n",
    "])\n",
    "\n",
    "gs_params = {\n",
    "    'regressor__n_estimators':[10,30,50,100],\n",
    "    'regressor__max_features':['sqrt','log2'],\n",
    "    'regressor__bootstrap' : [True, False]\n",
    "}\n",
    "#model = pipeline.fit(X_train, y_trainc.tolist())\n",
    "cvr = GridSearchCV(pipeliner, gs_params, cv=5)\n",
    "cvr.fit(X_train, y_trainr.tolist())\n",
    "cvr.score(X_test, y_testr.tolist())"
   ]
  },
  {
   "cell_type": "markdown",
   "metadata": {},
   "source": [
    "The regressor gives an R^2 score of 0.465. Its not too good but better than nothing I suppose."
   ]
  },
  {
   "cell_type": "code",
   "execution_count": null,
   "metadata": {
    "collapsed": true
   },
   "outputs": [],
   "source": []
  },
  {
   "cell_type": "code",
   "execution_count": null,
   "metadata": {
    "collapsed": true
   },
   "outputs": [],
   "source": [
    "X = cleaner.drop(['cleanedsalary','title','company','country','city','binnedsalary'], axis=1)\n",
    "yreg = cleaner['cleanedsalary']\n",
    "ycat = cleaner['binnedsalary']\n",
    "X.head()"
   ]
  },
  {
   "cell_type": "code",
   "execution_count": null,
   "metadata": {
    "collapsed": true
   },
   "outputs": [],
   "source": []
  },
  {
   "cell_type": "code",
   "execution_count": null,
   "metadata": {
    "collapsed": true
   },
   "outputs": [],
   "source": []
  },
  {
   "cell_type": "code",
   "execution_count": null,
   "metadata": {
    "collapsed": true
   },
   "outputs": [],
   "source": []
  },
  {
   "cell_type": "code",
   "execution_count": null,
   "metadata": {
    "collapsed": true
   },
   "outputs": [],
   "source": []
  },
  {
   "cell_type": "code",
   "execution_count": null,
   "metadata": {
    "collapsed": true
   },
   "outputs": [],
   "source": []
  },
  {
   "cell_type": "code",
   "execution_count": null,
   "metadata": {
    "collapsed": true
   },
   "outputs": [],
   "source": []
  },
  {
   "cell_type": "markdown",
   "metadata": {},
   "source": [
    "### Question 2"
   ]
  },
  {
   "cell_type": "markdown",
   "metadata": {},
   "source": [
    "#### Now I will create a classification model to predict data scientists.\n",
    "\n",
    "Great news that I've already pre-processed the dataset in question 1."
   ]
  },
  {
   "cell_type": "code",
   "execution_count": 303,
   "metadata": {
    "scrolled": true
   },
   "outputs": [
    {
     "data": {
      "text/html": [
       "<div>\n",
       "<style>\n",
       "    .dataframe thead tr:only-child th {\n",
       "        text-align: right;\n",
       "    }\n",
       "\n",
       "    .dataframe thead th {\n",
       "        text-align: left;\n",
       "    }\n",
       "\n",
       "    .dataframe tbody tr th {\n",
       "        vertical-align: top;\n",
       "    }\n",
       "</style>\n",
       "<table border=\"1\" class=\"dataframe\">\n",
       "  <thead>\n",
       "    <tr style=\"text-align: right;\">\n",
       "      <th></th>\n",
       "      <th>city</th>\n",
       "      <th>company</th>\n",
       "      <th>description</th>\n",
       "      <th>title</th>\n",
       "      <th>cleanedsalary</th>\n",
       "      <th>country</th>\n",
       "      <th>data_scientist</th>\n",
       "      <th>data_analyst</th>\n",
       "      <th>business_analyst</th>\n",
       "      <th>data_engineer</th>\n",
       "      <th>intern</th>\n",
       "      <th>boss</th>\n",
       "      <th>f500</th>\n",
       "      <th>reviewstar</th>\n",
       "      <th>binnedsalary</th>\n",
       "      <th>citycode</th>\n",
       "    </tr>\n",
       "  </thead>\n",
       "  <tbody>\n",
       "    <tr>\n",
       "      <th>0</th>\n",
       "      <td>London</td>\n",
       "      <td>La Fosse Associates</td>\n",
       "      <td>Machine learning, data science, big data. Prob...</td>\n",
       "      <td>Head of Analytics</td>\n",
       "      <td>135000.0</td>\n",
       "      <td>United Kingdom</td>\n",
       "      <td>0</td>\n",
       "      <td>0</td>\n",
       "      <td>0</td>\n",
       "      <td>0</td>\n",
       "      <td>0</td>\n",
       "      <td>1</td>\n",
       "      <td>0</td>\n",
       "      <td>0</td>\n",
       "      <td>3</td>\n",
       "      <td>16</td>\n",
       "    </tr>\n",
       "    <tr>\n",
       "      <th>1</th>\n",
       "      <td>London</td>\n",
       "      <td>Aspire Data Recruitment</td>\n",
       "      <td>Hands-on experience on statistical modelling/ ...</td>\n",
       "      <td>Head of Predictive Analytics</td>\n",
       "      <td>211500.0</td>\n",
       "      <td>United Kingdom</td>\n",
       "      <td>0</td>\n",
       "      <td>0</td>\n",
       "      <td>0</td>\n",
       "      <td>0</td>\n",
       "      <td>0</td>\n",
       "      <td>1</td>\n",
       "      <td>0</td>\n",
       "      <td>0</td>\n",
       "      <td>4</td>\n",
       "      <td>16</td>\n",
       "    </tr>\n",
       "    <tr>\n",
       "      <th>2</th>\n",
       "      <td>London</td>\n",
       "      <td>Data Idols</td>\n",
       "      <td>Commercial knowledge of machine learning techn...</td>\n",
       "      <td>Data Scientist</td>\n",
       "      <td>130500.0</td>\n",
       "      <td>United Kingdom</td>\n",
       "      <td>1</td>\n",
       "      <td>0</td>\n",
       "      <td>0</td>\n",
       "      <td>0</td>\n",
       "      <td>0</td>\n",
       "      <td>0</td>\n",
       "      <td>0</td>\n",
       "      <td>0</td>\n",
       "      <td>3</td>\n",
       "      <td>16</td>\n",
       "    </tr>\n",
       "    <tr>\n",
       "      <th>3</th>\n",
       "      <td>London</td>\n",
       "      <td>Tessella Ltd</td>\n",
       "      <td>Data Scientist / Software Developer. Using dat...</td>\n",
       "      <td>Data Scientist / Software Developer</td>\n",
       "      <td>54000.0</td>\n",
       "      <td>United Kingdom</td>\n",
       "      <td>1</td>\n",
       "      <td>0</td>\n",
       "      <td>0</td>\n",
       "      <td>0</td>\n",
       "      <td>0</td>\n",
       "      <td>0</td>\n",
       "      <td>0</td>\n",
       "      <td>0</td>\n",
       "      <td>1</td>\n",
       "      <td>16</td>\n",
       "    </tr>\n",
       "    <tr>\n",
       "      <th>4</th>\n",
       "      <td>London</td>\n",
       "      <td>Tech Mavens</td>\n",
       "      <td>PhD with research, publications related to mac...</td>\n",
       "      <td>Machine Learning researcher</td>\n",
       "      <td>144000.0</td>\n",
       "      <td>United Kingdom</td>\n",
       "      <td>0</td>\n",
       "      <td>0</td>\n",
       "      <td>0</td>\n",
       "      <td>0</td>\n",
       "      <td>0</td>\n",
       "      <td>0</td>\n",
       "      <td>0</td>\n",
       "      <td>0</td>\n",
       "      <td>3</td>\n",
       "      <td>16</td>\n",
       "    </tr>\n",
       "  </tbody>\n",
       "</table>\n",
       "</div>"
      ],
      "text/plain": [
       "     city                  company  \\\n",
       "0  London      La Fosse Associates   \n",
       "1  London  Aspire Data Recruitment   \n",
       "2  London               Data Idols   \n",
       "3  London             Tessella Ltd   \n",
       "4  London              Tech Mavens   \n",
       "\n",
       "                                         description  \\\n",
       "0  Machine learning, data science, big data. Prob...   \n",
       "1  Hands-on experience on statistical modelling/ ...   \n",
       "2  Commercial knowledge of machine learning techn...   \n",
       "3  Data Scientist / Software Developer. Using dat...   \n",
       "4  PhD with research, publications related to mac...   \n",
       "\n",
       "                                 title  cleanedsalary         country  \\\n",
       "0                    Head of Analytics       135000.0  United Kingdom   \n",
       "1         Head of Predictive Analytics       211500.0  United Kingdom   \n",
       "2                       Data Scientist       130500.0  United Kingdom   \n",
       "3  Data Scientist / Software Developer        54000.0  United Kingdom   \n",
       "4          Machine Learning researcher       144000.0  United Kingdom   \n",
       "\n",
       "   data_scientist  data_analyst  business_analyst  data_engineer  intern  \\\n",
       "0               0             0                 0              0       0   \n",
       "1               0             0                 0              0       0   \n",
       "2               1             0                 0              0       0   \n",
       "3               1             0                 0              0       0   \n",
       "4               0             0                 0              0       0   \n",
       "\n",
       "   boss  f500  reviewstar binnedsalary  citycode  \n",
       "0     1     0           0            3        16  \n",
       "1     1     0           0            4        16  \n",
       "2     0     0           0            3        16  \n",
       "3     0     0           0            1        16  \n",
       "4     0     0           0            3        16  "
      ]
     },
     "execution_count": 303,
     "metadata": {},
     "output_type": "execute_result"
    }
   ],
   "source": [
    "cleaner.head()"
   ]
  },
  {
   "cell_type": "code",
   "execution_count": 304,
   "metadata": {},
   "outputs": [],
   "source": [
    "X = cleaner.drop(['cleanedsalary','title','company','country','city','data_scientist'], axis=1)\n",
    "y = cleaner['data_scientist']"
   ]
  },
  {
   "cell_type": "code",
   "execution_count": 305,
   "metadata": {
    "collapsed": true
   },
   "outputs": [],
   "source": [
    "import re\n",
    "regex = re.compile('[^a-zA-Z\\'-] ')    \n",
    "#First parameter is the replacement, second parameter is your input string\n",
    "regex.sub(' ','abc-ed' )   #testing regex\n",
    "X['description'] = X['description'].map(lambda x:x.replace(',',' ').replace('....',' ').strip().split(' '))\n",
    "X['description'] = X['description'].map(descriptionclean)#.map(lambda x:' '.join(x).strip())\n",
    "X['description'] = X['description'].map(removestop)\n",
    "from nltk.stem import PorterStemmer\n",
    "stemmer = PorterStemmer()\n",
    "X['description'] = X['description'].map(lambda x:[stemmer.stem(word) for word in x])\n",
    "X['description'].map(lambda x:[word for word in x if word.isalpha()])\n",
    "X['description'] = X['description'].map(lambda x: \" \".join(x).strip())"
   ]
  },
  {
   "cell_type": "code",
   "execution_count": 306,
   "metadata": {},
   "outputs": [
    {
     "data": {
      "text/plain": [
       "0    2503\n",
       "1     300\n",
       "Name: data_scientist, dtype: int64"
      ]
     },
     "execution_count": 306,
     "metadata": {},
     "output_type": "execute_result"
    }
   ],
   "source": [
    "y.value_counts()"
   ]
  },
  {
   "cell_type": "code",
   "execution_count": 307,
   "metadata": {
    "collapsed": true
   },
   "outputs": [],
   "source": [
    "imbalance = 300./2503"
   ]
  },
  {
   "cell_type": "markdown",
   "metadata": {},
   "source": [
    "This is pretty unbalanced. How can I fix it? Sampling? Let me try an SVC with an imbalanced penalty."
   ]
  },
  {
   "cell_type": "code",
   "execution_count": 308,
   "metadata": {
    "collapsed": true
   },
   "outputs": [],
   "source": [
    "from sklearn.svm import SVC"
   ]
  },
  {
   "cell_type": "code",
   "execution_count": 309,
   "metadata": {
    "collapsed": true
   },
   "outputs": [],
   "source": [
    "X_train, X_test, y_train, y_test = train_test_split(X, y, test_size=0.33, random_state=42)"
   ]
  },
  {
   "cell_type": "code",
   "execution_count": 310,
   "metadata": {},
   "outputs": [
    {
     "name": "stdout",
     "output_type": "stream",
     "text": [
      "             precision    recall  f1-score   support\n",
      "\n",
      "          0       0.97      0.92      0.95       828\n",
      "          1       0.53      0.77      0.63        97\n",
      "\n",
      "avg / total       0.93      0.90      0.91       925\n",
      "\n"
     ]
    }
   ],
   "source": [
    "pipeline22 = Pipeline([\n",
    "    (\"union\", FeatureUnion(\n",
    "        transformer_list=[\n",
    "            (\"description\", Pipeline([\n",
    "                (\"selector\", ItemSelector(column=\"description\")),\n",
    "                (\"countvec\", CountVectorizer(strip_accents='unicode', ngram_range=(1,2),\n",
    "                                             stop_words = 'english', min_df=50)),(\"todense\", DenseTransformer())\n",
    "            ])), (\"removedes\", RemoveDescription())\n",
    "        ])),\n",
    "    (\"classifier\", SVC(class_weight={0:imbalance, 1:1-imbalance}))\n",
    "])\n",
    "\n",
    "gs_params = {\n",
    "    'classifier__kernel':['linear','rbf','sigmoid'],\n",
    "    'classifier__C':[0.05,0.1,1,5,20],\n",
    "    'classifier__probability' : [True, False]    \n",
    "}\n",
    "\n",
    "#model = pipeline.fit(X_train, y_trainc.tolist())\n",
    "cv22 = GridSearchCV(pipeline22, gs_params, cv=5)\n",
    "model = cv22.fit(X_train, y_train.tolist())\n",
    "\n",
    "#model = pipeline22.fit(X_train, y_train.tolist())\n",
    "#model = pipeline.fit(X_train, y_trainc.tolist())\n",
    "#predictions = model.predict(X_test)\n",
    "#cv.score(X_test, y_test)\n",
    "predictions = model.predict(X_test)\n",
    "print classification_report(y_test.tolist(), predictions)"
   ]
  },
  {
   "cell_type": "code",
   "execution_count": 311,
   "metadata": {},
   "outputs": [],
   "source": [
    "tt = cv22.best_estimator_"
   ]
  },
  {
   "cell_type": "code",
   "execution_count": 312,
   "metadata": {
    "scrolled": true
   },
   "outputs": [
    {
     "data": {
      "text/plain": [
       "SVC(C=1, cache_size=200,\n",
       "  class_weight={0: 0.11985617259288853, 1: 0.8801438274071115}, coef0=0.0,\n",
       "  decision_function_shape=None, degree=3, gamma='auto', kernel='linear',\n",
       "  max_iter=-1, probability=True, random_state=None, shrinking=True,\n",
       "  tol=0.001, verbose=False)"
      ]
     },
     "execution_count": 312,
     "metadata": {},
     "output_type": "execute_result"
    }
   ],
   "source": [
    "tt.steps[1][1] #linear gives the best score"
   ]
  },
  {
   "cell_type": "code",
   "execution_count": 313,
   "metadata": {},
   "outputs": [],
   "source": [
    "from sklearn.feature_extraction.text import CountVectorizer\n",
    "cvt      =  CountVectorizer(strip_accents='unicode', ngram_range=(1,2), stop_words = 'english', min_df=50)\n",
    "X_all    =  cvt.fit_transform(X_train['description'])\n",
    "columns  =  np.array(cvt.get_feature_names())          # ndarray (for indexing below)\n",
    "\n",
    "# note this is a large sparse matrix. \n",
    "#    - rows are tweets, columns are words \n",
    "X_all\n",
    "docs2 = pd.DataFrame(X_all.todense(), columns=columns)\n"
   ]
  },
  {
   "cell_type": "code",
   "execution_count": 314,
   "metadata": {},
   "outputs": [],
   "source": [
    "features2 =  docs2.columns.append(X_train.drop('description',axis=1).columns)"
   ]
  },
  {
   "cell_type": "code",
   "execution_count": 315,
   "metadata": {
    "scrolled": true
   },
   "outputs": [
    {
     "data": {
      "text/plain": [
       "Index([            u'abil',           u'advanc',        u'algorithm',\n",
       "                 u'analys',          u'analysi',          u'analyst',\n",
       "                 u'analyt',      u'analyt data',        u'analytics',\n",
       "                 u'analyz',\n",
       "       ...\n",
       "                   u'year',     u'data_analyst', u'business_analyst',\n",
       "          u'data_engineer',           u'intern',             u'boss',\n",
       "                   u'f500',       u'reviewstar',     u'binnedsalary',\n",
       "               u'citycode'],\n",
       "      dtype='object', length=103)"
      ]
     },
     "execution_count": 315,
     "metadata": {},
     "output_type": "execute_result"
    }
   ],
   "source": [
    "features2"
   ]
  },
  {
   "cell_type": "code",
   "execution_count": 317,
   "metadata": {},
   "outputs": [
    {
     "name": "stdout",
     "output_type": "stream",
     "text": [
      "(103,)\n",
      "(103,)\n"
     ]
    },
    {
     "data": {
      "text/html": [
       "<div>\n",
       "<style>\n",
       "    .dataframe thead tr:only-child th {\n",
       "        text-align: right;\n",
       "    }\n",
       "\n",
       "    .dataframe thead th {\n",
       "        text-align: left;\n",
       "    }\n",
       "\n",
       "    .dataframe tbody tr th {\n",
       "        vertical-align: top;\n",
       "    }\n",
       "</style>\n",
       "<table border=\"1\" class=\"dataframe\">\n",
       "  <thead>\n",
       "    <tr style=\"text-align: right;\">\n",
       "      <th></th>\n",
       "      <th>feature</th>\n",
       "      <th>importance</th>\n",
       "    </tr>\n",
       "  </thead>\n",
       "  <tbody>\n",
       "    <tr>\n",
       "      <th>28</th>\n",
       "      <td>data scientist</td>\n",
       "      <td>1.499122</td>\n",
       "    </tr>\n",
       "    <tr>\n",
       "      <th>74</th>\n",
       "      <td>set</td>\n",
       "      <td>1.134142</td>\n",
       "    </tr>\n",
       "    <tr>\n",
       "      <th>62</th>\n",
       "      <td>python</td>\n",
       "      <td>0.914585</td>\n",
       "    </tr>\n",
       "    <tr>\n",
       "      <th>2</th>\n",
       "      <td>algorithm</td>\n",
       "      <td>0.878050</td>\n",
       "    </tr>\n",
       "    <tr>\n",
       "      <th>67</th>\n",
       "      <td>respons</td>\n",
       "      <td>0.788076</td>\n",
       "    </tr>\n",
       "    <tr>\n",
       "      <th>27</th>\n",
       "      <td>data scienc</td>\n",
       "      <td>0.637189</td>\n",
       "    </tr>\n",
       "    <tr>\n",
       "      <th>87</th>\n",
       "      <td>thi</td>\n",
       "      <td>0.534276</td>\n",
       "    </tr>\n",
       "    <tr>\n",
       "      <th>68</th>\n",
       "      <td>role</td>\n",
       "      <td>0.532835</td>\n",
       "    </tr>\n",
       "    <tr>\n",
       "      <th>60</th>\n",
       "      <td>project</td>\n",
       "      <td>0.530919</td>\n",
       "    </tr>\n",
       "    <tr>\n",
       "      <th>17</th>\n",
       "      <td>client</td>\n",
       "      <td>0.518710</td>\n",
       "    </tr>\n",
       "    <tr>\n",
       "      <th>46</th>\n",
       "      <td>learning</td>\n",
       "      <td>0.466617</td>\n",
       "    </tr>\n",
       "    <tr>\n",
       "      <th>59</th>\n",
       "      <td>product</td>\n",
       "      <td>0.452094</td>\n",
       "    </tr>\n",
       "    <tr>\n",
       "      <th>70</th>\n",
       "      <td>scientist</td>\n",
       "      <td>0.440519</td>\n",
       "    </tr>\n",
       "    <tr>\n",
       "      <th>45</th>\n",
       "      <td>learn</td>\n",
       "      <td>0.433839</td>\n",
       "    </tr>\n",
       "    <tr>\n",
       "      <th>55</th>\n",
       "      <td>opportun</td>\n",
       "      <td>0.429832</td>\n",
       "    </tr>\n",
       "    <tr>\n",
       "      <th>90</th>\n",
       "      <td>use</td>\n",
       "      <td>0.427331</td>\n",
       "    </tr>\n",
       "    <tr>\n",
       "      <th>80</th>\n",
       "      <td>statist</td>\n",
       "      <td>0.418323</td>\n",
       "    </tr>\n",
       "    <tr>\n",
       "      <th>1</th>\n",
       "      <td>advanc</td>\n",
       "      <td>0.416548</td>\n",
       "    </tr>\n",
       "    <tr>\n",
       "      <th>47</th>\n",
       "      <td>look</td>\n",
       "      <td>0.414386</td>\n",
       "    </tr>\n",
       "    <tr>\n",
       "      <th>52</th>\n",
       "      <td>model</td>\n",
       "      <td>0.390609</td>\n",
       "    </tr>\n",
       "  </tbody>\n",
       "</table>\n",
       "</div>"
      ],
      "text/plain": [
       "           feature  importance\n",
       "28  data scientist    1.499122\n",
       "74             set    1.134142\n",
       "62          python    0.914585\n",
       "2        algorithm    0.878050\n",
       "67         respons    0.788076\n",
       "27     data scienc    0.637189\n",
       "87             thi    0.534276\n",
       "68            role    0.532835\n",
       "60         project    0.530919\n",
       "17          client    0.518710\n",
       "46        learning    0.466617\n",
       "59         product    0.452094\n",
       "70       scientist    0.440519\n",
       "45           learn    0.433839\n",
       "55        opportun    0.429832\n",
       "90             use    0.427331\n",
       "80         statist    0.418323\n",
       "1           advanc    0.416548\n",
       "47            look    0.414386\n",
       "52           model    0.390609"
      ]
     },
     "execution_count": 317,
     "metadata": {},
     "output_type": "execute_result"
    }
   ],
   "source": [
    "be = cv22.best_estimator_ \n",
    "coef = be.steps[1][1].coef_\n",
    "\n",
    "print coef[0].shape\n",
    "print features2.shape\n",
    "\n",
    "fi = pd.DataFrame({\n",
    "        'feature':features2,\n",
    "        'importance':coef[0]\n",
    "    })\n",
    "\n",
    "fi.sort_values('importance', ascending=False, inplace=True)\n",
    "fi[:20]\n"
   ]
  },
  {
   "cell_type": "code",
   "execution_count": 318,
   "metadata": {},
   "outputs": [
    {
     "data": {
      "text/html": [
       "<div>\n",
       "<style>\n",
       "    .dataframe thead tr:only-child th {\n",
       "        text-align: right;\n",
       "    }\n",
       "\n",
       "    .dataframe thead th {\n",
       "        text-align: left;\n",
       "    }\n",
       "\n",
       "    .dataframe tbody tr th {\n",
       "        vertical-align: top;\n",
       "    }\n",
       "</style>\n",
       "<table border=\"1\" class=\"dataframe\">\n",
       "  <thead>\n",
       "    <tr style=\"text-align: right;\">\n",
       "      <th></th>\n",
       "      <th>feature</th>\n",
       "      <th>importance</th>\n",
       "    </tr>\n",
       "  </thead>\n",
       "  <tbody>\n",
       "    <tr>\n",
       "      <th>38</th>\n",
       "      <td>inform</td>\n",
       "      <td>-0.456654</td>\n",
       "    </tr>\n",
       "    <tr>\n",
       "      <th>12</th>\n",
       "      <td>big data</td>\n",
       "      <td>-0.471272</td>\n",
       "    </tr>\n",
       "    <tr>\n",
       "      <th>11</th>\n",
       "      <td>big</td>\n",
       "      <td>-0.471272</td>\n",
       "    </tr>\n",
       "    <tr>\n",
       "      <th>64</th>\n",
       "      <td>report</td>\n",
       "      <td>-0.504143</td>\n",
       "    </tr>\n",
       "    <tr>\n",
       "      <th>13</th>\n",
       "      <td>build</td>\n",
       "      <td>-0.530698</td>\n",
       "    </tr>\n",
       "    <tr>\n",
       "      <th>33</th>\n",
       "      <td>excel</td>\n",
       "      <td>-0.563453</td>\n",
       "    </tr>\n",
       "    <tr>\n",
       "      <th>86</th>\n",
       "      <td>test</td>\n",
       "      <td>-0.599281</td>\n",
       "    </tr>\n",
       "    <tr>\n",
       "      <th>56</th>\n",
       "      <td>perform</td>\n",
       "      <td>-0.606272</td>\n",
       "    </tr>\n",
       "    <tr>\n",
       "      <th>95</th>\n",
       "      <td>business_analyst</td>\n",
       "      <td>-0.671778</td>\n",
       "    </tr>\n",
       "    <tr>\n",
       "      <th>31</th>\n",
       "      <td>engin</td>\n",
       "      <td>-0.673798</td>\n",
       "    </tr>\n",
       "    <tr>\n",
       "      <th>32</th>\n",
       "      <td>engineer</td>\n",
       "      <td>-0.689113</td>\n",
       "    </tr>\n",
       "    <tr>\n",
       "      <th>78</th>\n",
       "      <td>sourc</td>\n",
       "      <td>-0.728391</td>\n",
       "    </tr>\n",
       "    <tr>\n",
       "      <th>29</th>\n",
       "      <td>design</td>\n",
       "      <td>-0.733913</td>\n",
       "    </tr>\n",
       "    <tr>\n",
       "      <th>58</th>\n",
       "      <td>process</td>\n",
       "      <td>-0.787853</td>\n",
       "    </tr>\n",
       "    <tr>\n",
       "      <th>66</th>\n",
       "      <td>research</td>\n",
       "      <td>-0.920558</td>\n",
       "    </tr>\n",
       "    <tr>\n",
       "      <th>5</th>\n",
       "      <td>analyst</td>\n",
       "      <td>-0.931197</td>\n",
       "    </tr>\n",
       "    <tr>\n",
       "      <th>26</th>\n",
       "      <td>data engin</td>\n",
       "      <td>-1.062972</td>\n",
       "    </tr>\n",
       "    <tr>\n",
       "      <th>50</th>\n",
       "      <td>manag</td>\n",
       "      <td>-1.083285</td>\n",
       "    </tr>\n",
       "    <tr>\n",
       "      <th>76</th>\n",
       "      <td>softwar</td>\n",
       "      <td>-1.115643</td>\n",
       "    </tr>\n",
       "    <tr>\n",
       "      <th>96</th>\n",
       "      <td>data_engineer</td>\n",
       "      <td>-1.157411</td>\n",
       "    </tr>\n",
       "  </tbody>\n",
       "</table>\n",
       "</div>"
      ],
      "text/plain": [
       "             feature  importance\n",
       "38            inform   -0.456654\n",
       "12          big data   -0.471272\n",
       "11               big   -0.471272\n",
       "64            report   -0.504143\n",
       "13             build   -0.530698\n",
       "33             excel   -0.563453\n",
       "86              test   -0.599281\n",
       "56           perform   -0.606272\n",
       "95  business_analyst   -0.671778\n",
       "31             engin   -0.673798\n",
       "32          engineer   -0.689113\n",
       "78             sourc   -0.728391\n",
       "29            design   -0.733913\n",
       "58           process   -0.787853\n",
       "66          research   -0.920558\n",
       "5            analyst   -0.931197\n",
       "26        data engin   -1.062972\n",
       "50             manag   -1.083285\n",
       "76           softwar   -1.115643\n",
       "96     data_engineer   -1.157411"
      ]
     },
     "execution_count": 318,
     "metadata": {},
     "output_type": "execute_result"
    }
   ],
   "source": [
    "fi[-20:]"
   ]
  },
  {
   "cell_type": "markdown",
   "metadata": {},
   "source": [
    "Interesting. Python seems to be a sought after skill for data scientists."
   ]
  },
  {
   "cell_type": "markdown",
   "metadata": {},
   "source": [
    "### Predicting bosses\n",
    "\n",
    "---\n",
    "\n",
    "What are the key features that determine whether a listing is for a BOSS??"
   ]
  },
  {
   "cell_type": "code",
   "execution_count": 319,
   "metadata": {},
   "outputs": [
    {
     "data": {
      "text/html": [
       "<div>\n",
       "<style>\n",
       "    .dataframe thead tr:only-child th {\n",
       "        text-align: right;\n",
       "    }\n",
       "\n",
       "    .dataframe thead th {\n",
       "        text-align: left;\n",
       "    }\n",
       "\n",
       "    .dataframe tbody tr th {\n",
       "        vertical-align: top;\n",
       "    }\n",
       "</style>\n",
       "<table border=\"1\" class=\"dataframe\">\n",
       "  <thead>\n",
       "    <tr style=\"text-align: right;\">\n",
       "      <th></th>\n",
       "      <th>city</th>\n",
       "      <th>company</th>\n",
       "      <th>description</th>\n",
       "      <th>title</th>\n",
       "      <th>cleanedsalary</th>\n",
       "      <th>country</th>\n",
       "      <th>data_scientist</th>\n",
       "      <th>data_analyst</th>\n",
       "      <th>business_analyst</th>\n",
       "      <th>data_engineer</th>\n",
       "      <th>intern</th>\n",
       "      <th>boss</th>\n",
       "      <th>f500</th>\n",
       "      <th>reviewstar</th>\n",
       "      <th>binnedsalary</th>\n",
       "      <th>citycode</th>\n",
       "    </tr>\n",
       "  </thead>\n",
       "  <tbody>\n",
       "    <tr>\n",
       "      <th>0</th>\n",
       "      <td>London</td>\n",
       "      <td>La Fosse Associates</td>\n",
       "      <td>Machine learning, data science, big data. Prob...</td>\n",
       "      <td>Head of Analytics</td>\n",
       "      <td>135000.0</td>\n",
       "      <td>United Kingdom</td>\n",
       "      <td>0</td>\n",
       "      <td>0</td>\n",
       "      <td>0</td>\n",
       "      <td>0</td>\n",
       "      <td>0</td>\n",
       "      <td>1</td>\n",
       "      <td>0</td>\n",
       "      <td>0</td>\n",
       "      <td>3</td>\n",
       "      <td>16</td>\n",
       "    </tr>\n",
       "    <tr>\n",
       "      <th>1</th>\n",
       "      <td>London</td>\n",
       "      <td>Aspire Data Recruitment</td>\n",
       "      <td>Hands-on experience on statistical modelling/ ...</td>\n",
       "      <td>Head of Predictive Analytics</td>\n",
       "      <td>211500.0</td>\n",
       "      <td>United Kingdom</td>\n",
       "      <td>0</td>\n",
       "      <td>0</td>\n",
       "      <td>0</td>\n",
       "      <td>0</td>\n",
       "      <td>0</td>\n",
       "      <td>1</td>\n",
       "      <td>0</td>\n",
       "      <td>0</td>\n",
       "      <td>4</td>\n",
       "      <td>16</td>\n",
       "    </tr>\n",
       "    <tr>\n",
       "      <th>2</th>\n",
       "      <td>London</td>\n",
       "      <td>Data Idols</td>\n",
       "      <td>Commercial knowledge of machine learning techn...</td>\n",
       "      <td>Data Scientist</td>\n",
       "      <td>130500.0</td>\n",
       "      <td>United Kingdom</td>\n",
       "      <td>1</td>\n",
       "      <td>0</td>\n",
       "      <td>0</td>\n",
       "      <td>0</td>\n",
       "      <td>0</td>\n",
       "      <td>0</td>\n",
       "      <td>0</td>\n",
       "      <td>0</td>\n",
       "      <td>3</td>\n",
       "      <td>16</td>\n",
       "    </tr>\n",
       "    <tr>\n",
       "      <th>3</th>\n",
       "      <td>London</td>\n",
       "      <td>Tessella Ltd</td>\n",
       "      <td>Data Scientist / Software Developer. Using dat...</td>\n",
       "      <td>Data Scientist / Software Developer</td>\n",
       "      <td>54000.0</td>\n",
       "      <td>United Kingdom</td>\n",
       "      <td>1</td>\n",
       "      <td>0</td>\n",
       "      <td>0</td>\n",
       "      <td>0</td>\n",
       "      <td>0</td>\n",
       "      <td>0</td>\n",
       "      <td>0</td>\n",
       "      <td>0</td>\n",
       "      <td>1</td>\n",
       "      <td>16</td>\n",
       "    </tr>\n",
       "    <tr>\n",
       "      <th>4</th>\n",
       "      <td>London</td>\n",
       "      <td>Tech Mavens</td>\n",
       "      <td>PhD with research, publications related to mac...</td>\n",
       "      <td>Machine Learning researcher</td>\n",
       "      <td>144000.0</td>\n",
       "      <td>United Kingdom</td>\n",
       "      <td>0</td>\n",
       "      <td>0</td>\n",
       "      <td>0</td>\n",
       "      <td>0</td>\n",
       "      <td>0</td>\n",
       "      <td>0</td>\n",
       "      <td>0</td>\n",
       "      <td>0</td>\n",
       "      <td>3</td>\n",
       "      <td>16</td>\n",
       "    </tr>\n",
       "  </tbody>\n",
       "</table>\n",
       "</div>"
      ],
      "text/plain": [
       "     city                  company  \\\n",
       "0  London      La Fosse Associates   \n",
       "1  London  Aspire Data Recruitment   \n",
       "2  London               Data Idols   \n",
       "3  London             Tessella Ltd   \n",
       "4  London              Tech Mavens   \n",
       "\n",
       "                                         description  \\\n",
       "0  Machine learning, data science, big data. Prob...   \n",
       "1  Hands-on experience on statistical modelling/ ...   \n",
       "2  Commercial knowledge of machine learning techn...   \n",
       "3  Data Scientist / Software Developer. Using dat...   \n",
       "4  PhD with research, publications related to mac...   \n",
       "\n",
       "                                 title  cleanedsalary         country  \\\n",
       "0                    Head of Analytics       135000.0  United Kingdom   \n",
       "1         Head of Predictive Analytics       211500.0  United Kingdom   \n",
       "2                       Data Scientist       130500.0  United Kingdom   \n",
       "3  Data Scientist / Software Developer        54000.0  United Kingdom   \n",
       "4          Machine Learning researcher       144000.0  United Kingdom   \n",
       "\n",
       "   data_scientist  data_analyst  business_analyst  data_engineer  intern  \\\n",
       "0               0             0                 0              0       0   \n",
       "1               0             0                 0              0       0   \n",
       "2               1             0                 0              0       0   \n",
       "3               1             0                 0              0       0   \n",
       "4               0             0                 0              0       0   \n",
       "\n",
       "   boss  f500  reviewstar binnedsalary  citycode  \n",
       "0     1     0           0            3        16  \n",
       "1     1     0           0            4        16  \n",
       "2     0     0           0            3        16  \n",
       "3     0     0           0            1        16  \n",
       "4     0     0           0            3        16  "
      ]
     },
     "execution_count": 319,
     "metadata": {},
     "output_type": "execute_result"
    }
   ],
   "source": [
    "cleaner.head()"
   ]
  },
  {
   "cell_type": "code",
   "execution_count": 320,
   "metadata": {
    "collapsed": true
   },
   "outputs": [],
   "source": [
    "X = cleaner.drop(['cleanedsalary','title','company','country','city','boss'], axis=1)\n",
    "y = cleaner['boss']"
   ]
  },
  {
   "cell_type": "code",
   "execution_count": 321,
   "metadata": {
    "collapsed": true
   },
   "outputs": [],
   "source": [
    "import re\n",
    "regex = re.compile('[^a-zA-Z\\'-] ')    \n",
    "#First parameter is the replacement, second parameter is your input string\n",
    "regex.sub(' ','abc-ed' )   #testing regex\n",
    "X['description'] = X['description'].map(lambda x:x.replace(',',' ').replace('....',' ').strip().split(' '))\n",
    "X['description'] = X['description'].map(descriptionclean)#.map(lambda x:' '.join(x).strip())\n",
    "X['description'] = X['description'].map(removestop)\n",
    "from nltk.stem import PorterStemmer\n",
    "stemmer = PorterStemmer()\n",
    "X['description'] = X['description'].map(lambda x:[stemmer.stem(word) for word in x])\n",
    "X['description'].map(lambda x:[word for word in x if word.isalpha()])\n",
    "X['description'] = X['description'].map(lambda x: \" \".join(x).strip())"
   ]
  },
  {
   "cell_type": "code",
   "execution_count": 322,
   "metadata": {},
   "outputs": [
    {
     "data": {
      "text/plain": [
       "0    2082\n",
       "1     721\n",
       "Name: boss, dtype: int64"
      ]
     },
     "execution_count": 322,
     "metadata": {},
     "output_type": "execute_result"
    }
   ],
   "source": [
    "y.value_counts()"
   ]
  },
  {
   "cell_type": "code",
   "execution_count": 323,
   "metadata": {
    "collapsed": true
   },
   "outputs": [],
   "source": [
    "imbalance = 721./2082"
   ]
  },
  {
   "cell_type": "code",
   "execution_count": 324,
   "metadata": {
    "collapsed": true
   },
   "outputs": [],
   "source": [
    "X_train, X_test, y_train, y_test = train_test_split(X, y, test_size=0.33, random_state=42)"
   ]
  },
  {
   "cell_type": "code",
   "execution_count": 325,
   "metadata": {},
   "outputs": [
    {
     "name": "stdout",
     "output_type": "stream",
     "text": [
      "             precision    recall  f1-score   support\n",
      "\n",
      "          0       0.80      0.91      0.86       679\n",
      "          1       0.62      0.39      0.48       246\n",
      "\n",
      "avg / total       0.76      0.77      0.75       925\n",
      "\n"
     ]
    }
   ],
   "source": [
    "pipeline22 = Pipeline([\n",
    "    (\"union\", FeatureUnion(\n",
    "        transformer_list=[\n",
    "            (\"description\", Pipeline([\n",
    "                (\"selector\", ItemSelector(column=\"description\")),\n",
    "                (\"countvec\", CountVectorizer(strip_accents='unicode', ngram_range=(1,2),\n",
    "                                             stop_words = 'english', min_df=50)),(\"todense\", DenseTransformer())\n",
    "            ])), (\"removedes\", RemoveDescription())\n",
    "        ])),\n",
    "    (\"classifier\", SVC(class_weight={0:imbalance, 1:1-imbalance}))\n",
    "])\n",
    "\n",
    "gs_params = {\n",
    "    'classifier__kernel':['linear'],\n",
    "    'classifier__C':[0.05,0.1,1,5,20],\n",
    "    'classifier__probability' : [True, False]    \n",
    "}\n",
    "\n",
    "#model = pipeline.fit(X_train, y_trainc.tolist())\n",
    "cv22 = GridSearchCV(pipeline22, gs_params, cv=5)\n",
    "model = cv22.fit(X_train, y_train.tolist())\n",
    "\n",
    "#model = pipeline22.fit(X_train, y_train.tolist())\n",
    "#model = pipeline.fit(X_train, y_trainc.tolist())\n",
    "#predictions = model.predict(X_test)\n",
    "#cv.score(X_test, y_test)\n",
    "predictions = model.predict(X_test)\n",
    "print classification_report(y_test.tolist(), predictions)"
   ]
  },
  {
   "cell_type": "code",
   "execution_count": 326,
   "metadata": {},
   "outputs": [
    {
     "name": "stdout",
     "output_type": "stream",
     "text": [
      "(103,)\n",
      "(103,)\n"
     ]
    },
    {
     "data": {
      "text/html": [
       "<div>\n",
       "<style>\n",
       "    .dataframe thead tr:only-child th {\n",
       "        text-align: right;\n",
       "    }\n",
       "\n",
       "    .dataframe thead th {\n",
       "        text-align: left;\n",
       "    }\n",
       "\n",
       "    .dataframe tbody tr th {\n",
       "        vertical-align: top;\n",
       "    }\n",
       "</style>\n",
       "<table border=\"1\" class=\"dataframe\">\n",
       "  <thead>\n",
       "    <tr style=\"text-align: right;\">\n",
       "      <th></th>\n",
       "      <th>feature</th>\n",
       "      <th>importance</th>\n",
       "    </tr>\n",
       "  </thead>\n",
       "  <tbody>\n",
       "    <tr>\n",
       "      <th>72</th>\n",
       "      <td>senior</td>\n",
       "      <td>1.415516</td>\n",
       "    </tr>\n",
       "    <tr>\n",
       "      <th>50</th>\n",
       "      <td>manag</td>\n",
       "      <td>0.498440</td>\n",
       "    </tr>\n",
       "    <tr>\n",
       "      <th>44</th>\n",
       "      <td>lead</td>\n",
       "      <td>0.459684</td>\n",
       "    </tr>\n",
       "    <tr>\n",
       "      <th>101</th>\n",
       "      <td>binnedsalary</td>\n",
       "      <td>0.434101</td>\n",
       "    </tr>\n",
       "    <tr>\n",
       "      <th>52</th>\n",
       "      <td>model</td>\n",
       "      <td>0.352369</td>\n",
       "    </tr>\n",
       "    <tr>\n",
       "      <th>21</th>\n",
       "      <td>custom</td>\n",
       "      <td>0.203541</td>\n",
       "    </tr>\n",
       "    <tr>\n",
       "      <th>68</th>\n",
       "      <td>role</td>\n",
       "      <td>0.186860</td>\n",
       "    </tr>\n",
       "    <tr>\n",
       "      <th>99</th>\n",
       "      <td>f500</td>\n",
       "      <td>0.184682</td>\n",
       "    </tr>\n",
       "    <tr>\n",
       "      <th>6</th>\n",
       "      <td>analyt</td>\n",
       "      <td>0.183242</td>\n",
       "    </tr>\n",
       "    <tr>\n",
       "      <th>8</th>\n",
       "      <td>analytics</td>\n",
       "      <td>0.179056</td>\n",
       "    </tr>\n",
       "    <tr>\n",
       "      <th>55</th>\n",
       "      <td>opportun</td>\n",
       "      <td>0.174138</td>\n",
       "    </tr>\n",
       "    <tr>\n",
       "      <th>93</th>\n",
       "      <td>year</td>\n",
       "      <td>0.169974</td>\n",
       "    </tr>\n",
       "    <tr>\n",
       "      <th>83</th>\n",
       "      <td>team</td>\n",
       "      <td>0.169729</td>\n",
       "    </tr>\n",
       "    <tr>\n",
       "      <th>86</th>\n",
       "      <td>test</td>\n",
       "      <td>0.168216</td>\n",
       "    </tr>\n",
       "    <tr>\n",
       "      <th>75</th>\n",
       "      <td>skill</td>\n",
       "      <td>0.159627</td>\n",
       "    </tr>\n",
       "    <tr>\n",
       "      <th>38</th>\n",
       "      <td>inform</td>\n",
       "      <td>0.142027</td>\n",
       "    </tr>\n",
       "    <tr>\n",
       "      <th>16</th>\n",
       "      <td>busi intellig</td>\n",
       "      <td>0.138004</td>\n",
       "    </tr>\n",
       "    <tr>\n",
       "      <th>78</th>\n",
       "      <td>sourc</td>\n",
       "      <td>0.136226</td>\n",
       "    </tr>\n",
       "    <tr>\n",
       "      <th>27</th>\n",
       "      <td>data scienc</td>\n",
       "      <td>0.126649</td>\n",
       "    </tr>\n",
       "    <tr>\n",
       "      <th>84</th>\n",
       "      <td>technic</td>\n",
       "      <td>0.104447</td>\n",
       "    </tr>\n",
       "  </tbody>\n",
       "</table>\n",
       "</div>"
      ],
      "text/plain": [
       "           feature  importance\n",
       "72          senior    1.415516\n",
       "50           manag    0.498440\n",
       "44            lead    0.459684\n",
       "101   binnedsalary    0.434101\n",
       "52           model    0.352369\n",
       "21          custom    0.203541\n",
       "68            role    0.186860\n",
       "99            f500    0.184682\n",
       "6           analyt    0.183242\n",
       "8        analytics    0.179056\n",
       "55        opportun    0.174138\n",
       "93            year    0.169974\n",
       "83            team    0.169729\n",
       "86            test    0.168216\n",
       "75           skill    0.159627\n",
       "38          inform    0.142027\n",
       "16   busi intellig    0.138004\n",
       "78           sourc    0.136226\n",
       "27     data scienc    0.126649\n",
       "84         technic    0.104447"
      ]
     },
     "execution_count": 326,
     "metadata": {},
     "output_type": "execute_result"
    }
   ],
   "source": [
    "from sklearn.feature_extraction.text import CountVectorizer\n",
    "cvt      =  CountVectorizer(strip_accents='unicode', ngram_range=(1,2), stop_words = 'english', min_df=50)\n",
    "X_all    =  cvt.fit_transform(X_train['description'])\n",
    "columns  =  np.array(cvt.get_feature_names())          # ndarray (for indexing below)\n",
    "\n",
    "# note this is a large sparse matrix. \n",
    "#    - rows are tweets, columns are words \n",
    "X_all\n",
    "docs2 = pd.DataFrame(X_all.todense(), columns=columns)\n",
    "features2 = docs2.columns.append(X_train.drop('description',axis=1).columns)\n",
    "\n",
    "be = cv22.best_estimator_ \n",
    "coef = be.steps[1][1].coef_\n",
    "\n",
    "print coef[0].shape\n",
    "print features2.shape\n",
    "\n",
    "fi = pd.DataFrame({\n",
    "        'feature':features2,\n",
    "        'importance':coef[0]\n",
    "    })\n",
    "\n",
    "fi.sort_values('importance', ascending=False, inplace=True)\n",
    "fi[:20]\n"
   ]
  },
  {
   "cell_type": "code",
   "execution_count": 327,
   "metadata": {
    "scrolled": false
   },
   "outputs": [
    {
     "data": {
      "text/html": [
       "<div>\n",
       "<style>\n",
       "    .dataframe thead tr:only-child th {\n",
       "        text-align: right;\n",
       "    }\n",
       "\n",
       "    .dataframe thead th {\n",
       "        text-align: left;\n",
       "    }\n",
       "\n",
       "    .dataframe tbody tr th {\n",
       "        vertical-align: top;\n",
       "    }\n",
       "</style>\n",
       "<table border=\"1\" class=\"dataframe\">\n",
       "  <thead>\n",
       "    <tr style=\"text-align: right;\">\n",
       "      <th></th>\n",
       "      <th>feature</th>\n",
       "      <th>importance</th>\n",
       "    </tr>\n",
       "  </thead>\n",
       "  <tbody>\n",
       "    <tr>\n",
       "      <th>11</th>\n",
       "      <td>big</td>\n",
       "      <td>-0.107028</td>\n",
       "    </tr>\n",
       "    <tr>\n",
       "      <th>70</th>\n",
       "      <td>scientist</td>\n",
       "      <td>-0.132827</td>\n",
       "    </tr>\n",
       "    <tr>\n",
       "      <th>67</th>\n",
       "      <td>respons</td>\n",
       "      <td>-0.134347</td>\n",
       "    </tr>\n",
       "    <tr>\n",
       "      <th>82</th>\n",
       "      <td>support</td>\n",
       "      <td>-0.147773</td>\n",
       "    </tr>\n",
       "    <tr>\n",
       "      <th>85</th>\n",
       "      <td>technolog</td>\n",
       "      <td>-0.154098</td>\n",
       "    </tr>\n",
       "    <tr>\n",
       "      <th>14</th>\n",
       "      <td>busi</td>\n",
       "      <td>-0.158947</td>\n",
       "    </tr>\n",
       "    <tr>\n",
       "      <th>1</th>\n",
       "      <td>advanc</td>\n",
       "      <td>-0.160717</td>\n",
       "    </tr>\n",
       "    <tr>\n",
       "      <th>29</th>\n",
       "      <td>design</td>\n",
       "      <td>-0.176463</td>\n",
       "    </tr>\n",
       "    <tr>\n",
       "      <th>71</th>\n",
       "      <td>seek</td>\n",
       "      <td>-0.185198</td>\n",
       "    </tr>\n",
       "    <tr>\n",
       "      <th>97</th>\n",
       "      <td>data_engineer</td>\n",
       "      <td>-0.189810</td>\n",
       "    </tr>\n",
       "    <tr>\n",
       "      <th>57</th>\n",
       "      <td>platform</td>\n",
       "      <td>-0.192203</td>\n",
       "    </tr>\n",
       "    <tr>\n",
       "      <th>31</th>\n",
       "      <td>engin</td>\n",
       "      <td>-0.195523</td>\n",
       "    </tr>\n",
       "    <tr>\n",
       "      <th>32</th>\n",
       "      <td>engineer</td>\n",
       "      <td>-0.197215</td>\n",
       "    </tr>\n",
       "    <tr>\n",
       "      <th>25</th>\n",
       "      <td>data analyt</td>\n",
       "      <td>-0.204015</td>\n",
       "    </tr>\n",
       "    <tr>\n",
       "      <th>88</th>\n",
       "      <td>tool</td>\n",
       "      <td>-0.204119</td>\n",
       "    </tr>\n",
       "    <tr>\n",
       "      <th>2</th>\n",
       "      <td>algorithm</td>\n",
       "      <td>-0.225239</td>\n",
       "    </tr>\n",
       "    <tr>\n",
       "      <th>100</th>\n",
       "      <td>reviewstar</td>\n",
       "      <td>-0.241926</td>\n",
       "    </tr>\n",
       "    <tr>\n",
       "      <th>96</th>\n",
       "      <td>business_analyst</td>\n",
       "      <td>-0.265779</td>\n",
       "    </tr>\n",
       "    <tr>\n",
       "      <th>95</th>\n",
       "      <td>data_analyst</td>\n",
       "      <td>-0.277292</td>\n",
       "    </tr>\n",
       "    <tr>\n",
       "      <th>41</th>\n",
       "      <td>join</td>\n",
       "      <td>-0.285991</td>\n",
       "    </tr>\n",
       "  </tbody>\n",
       "</table>\n",
       "</div>"
      ],
      "text/plain": [
       "              feature  importance\n",
       "11                big   -0.107028\n",
       "70          scientist   -0.132827\n",
       "67            respons   -0.134347\n",
       "82            support   -0.147773\n",
       "85          technolog   -0.154098\n",
       "14               busi   -0.158947\n",
       "1              advanc   -0.160717\n",
       "29             design   -0.176463\n",
       "71               seek   -0.185198\n",
       "97      data_engineer   -0.189810\n",
       "57           platform   -0.192203\n",
       "31              engin   -0.195523\n",
       "32           engineer   -0.197215\n",
       "25        data analyt   -0.204015\n",
       "88               tool   -0.204119\n",
       "2           algorithm   -0.225239\n",
       "100        reviewstar   -0.241926\n",
       "96   business_analyst   -0.265779\n",
       "95       data_analyst   -0.277292\n",
       "41               join   -0.285991"
      ]
     },
     "execution_count": 327,
     "metadata": {},
     "output_type": "execute_result"
    }
   ],
   "source": [
    "fi[-20:]"
   ]
  },
  {
   "cell_type": "markdown",
   "metadata": {},
   "source": [
    "Analysts dont matter. Interestingly, reviewstar was one of the lowest feature importance.\n",
    "\n",
    "It had one of the highest weights for the random forest classifier in predicting the salary bins, but it seems here that non-rated companies are more likely to hire senior staff, while rated companies don't really need bosses.\n",
    "\n",
    "f500 popped up as well as a feature with high importance. Looks like f500 companies need more senior staff (possibly because of large turnover rates?)"
   ]
  },
  {
   "cell_type": "code",
   "execution_count": null,
   "metadata": {
    "collapsed": true
   },
   "outputs": [],
   "source": []
  }
 ],
 "metadata": {
  "kernelspec": {
   "display_name": "Python 2",
   "language": "python",
   "name": "python2"
  },
  "language_info": {
   "codemirror_mode": {
    "name": "ipython",
    "version": 2
   },
   "file_extension": ".py",
   "mimetype": "text/x-python",
   "name": "python",
   "nbconvert_exporter": "python",
   "pygments_lexer": "ipython2",
   "version": "2.7.13"
  }
 },
 "nbformat": 4,
 "nbformat_minor": 2
}
